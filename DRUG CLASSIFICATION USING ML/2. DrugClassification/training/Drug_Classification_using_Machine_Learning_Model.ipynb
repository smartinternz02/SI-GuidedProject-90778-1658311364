{
  "cells": [
    {
      "cell_type": "markdown",
      "source": [
        "\n",
        "<style>\n",
        "h1{\n",
        "  font-size: 20px;\n",
        "}\n",
        "</style>\n",
        "\n",
        "<center><h1>DRUG CLASSIFICATION USING MACHINE LEARNING</h1></center>\n",
        "<br>\n",
        "<center><h2>CONTENTS</h2></center>\n",
        "\n",
        "1. Introduction \n",
        "2.Importing Libraries\n",
        "3. Reading Data Set \n",
        "4. Initial Dataset Exploration \n",
        "\n",
        " 4.1 Categorical Variables \n",
        "\n",
        " 4.2 Descriptive Analysis \n",
        "\n",
        "5. Univariate Analysis\n",
        "\n",
        " 5.1 Drug Type Distribution\n",
        "\n",
        " 5.2 Gender Distribution \n",
        "\n",
        " 5.3 Blood Pressure Distribution \n",
        "\n",
        " 5.4 Cholesterol Distribution\n",
        "\n",
        " 5.5 Gender Distribution based on Drug Type \n",
        "\n",
        " 5.6 Blood Pressure Distribution based on Cholesetrol \n",
        "\n",
        " 5.7 Sodium to Potassium Distribution based on Gender and Age\n",
        "6.Bivariate analysis\n",
        "7.Multivariate Analysis\n",
        "8.Encoding- Converting categorical to numerical\n",
        "9.Data Preparation\n",
        "\n",
        " 9.1 Data Bining\n",
        "\n",
        "      9.1.1 Age\n",
        "\n",
        "      9.1.2 Na_to_K \n",
        "   9.2 Splitting the dataset \n",
        "\n",
        "   9.3 Feature Engineering\n",
        "\n",
        "10. Model Building \n",
        "\n",
        "   10.1 Logistic Regression\n",
        "\n",
        "   10.2 K-nearest Neighbours\n",
        "\n",
        "   10.3 Naive Bayes Classifier\n",
        "\n",
        "   10.4 Decision Tree Making\n",
        "\n",
        "   10.5 Random Forest Classifier\n",
        "\n",
        "11. Model Evaluation and comparison\n",
        "12. Saving the model\n",
        "13. Conclusion\n",
        "\n"
      ],
      "metadata": {
        "id": "K_h6uEE0B1dE"
      },
      "id": "K_h6uEE0B1dE"
    },
    {
      "cell_type": "markdown",
      "id": "51464e8c",
      "metadata": {
        "papermill": {
          "duration": 0.060406,
          "end_time": "2022-05-04T02:53:14.632769",
          "exception": false,
          "start_time": "2022-05-04T02:53:14.572363",
          "status": "completed"
        },
        "tags": [],
        "id": "51464e8c"
      },
      "source": [
        "\n",
        "\n",
        "# 1. Introduction \n",
        "<center><img src=\"https://cdn-aimkf.nitrocdn.com/fHzWlVYOXDdxWdFNbwxEdhdjxmnEjSJH/assets/static/optimized/rev-dadfeca/wp-content/uploads/2019/03/drug-classification-charts.webp\" alt=\"Drug Picture\" width=\"1000\" height=\"600\"></center><br>\n",
        "\n",
        "This dataset contains information about drug classification based on patient general information and its diagnosis. Machine learning model is needed in order **to predict the outcome of the drugs type** that might be suitable for the patient.\n",
        "\n",
        "\n",
        "**The machine learning models used in this project are:** \n",
        "1. Linear Logistic Regression\n",
        "3. K-nearest Neighbours\n",
        "4. Naive Bayes Classifier\n",
        "5. Decision Tree Making\n",
        "6. Random Forest Classifier\n",
        "\n",
        "---\n",
        "\n",
        "## Data Set Description 🧾\n",
        "\n",
        " There are **6 variables** in this data set:\n",
        "*   **4 categorical** variables.\n",
        "*   **2 continuous** variables.\n",
        "\n",
        "<br>\n",
        "\n",
        "<i>The following is the **structure of the data set**.</i>\n",
        "\n",
        "\n",
        "<table style=\"width:100%\">\n",
        "<thead>\n",
        "<tr>\n",
        "<th style=\"text-align:center; font-weight: bold; font-size:14px\">Variable Name</th>\n",
        "<th style=\"text-align:center; font-weight: bold; font-size:14px\">Description</th>\n",
        "<th style=\"text-align:center; font-weight: bold; font-size:14px\">Sample Data</th>\n",
        "</tr>\n",
        "</thead>\n",
        "<tbody>\n",
        "<tr>\n",
        "<td><b>Age</b></td>\n",
        "<td>Patient Age</td>\n",
        "<td>23; 47; ...</td>\n",
        "</tr>\n",
        "<tr>\n",
        "<td><b>Sex</b></td>\n",
        "<td>Gender of patient <br> (male or female)</td>\n",
        "<td>F; M; ...</td>\n",
        "</tr>\n",
        "<tr>\n",
        "<td><b>BP</b></td>\n",
        "<td>Levels of blood pressure <br> (high, normal, or low)</td>\n",
        "<td>HIGH; NORMAL; LOW; ...</td>\n",
        "</tr>\n",
        "<tr>\n",
        "<td><b>Cholesterol</b></td>\n",
        "<td>Levels of cholesterol <br> (high or normal)</td>\n",
        "<td>1.4; 1.3; ...</td>\n",
        "</tr>\n",
        "<tr>\n",
        "<td><b>Na_to_K</b></td>\n",
        "<td>Sodium to potassium ratio in blood</td>\n",
        "<td>25.355; 13.093; ...</td>\n",
        "</tr>\n",
        "<tr>\n",
        "<td><b>Drug</b></td>\n",
        "<td>Type of drug</td>\n",
        "<td>DrugY; drugC; ...</td>\n",
        "</tr>\n",
        "</tbody>\n",
        "</table>\n",
        "\n"
      ]
    },
    {
      "cell_type": "markdown",
      "id": "27788eec",
      "metadata": {
        "id": "27788eec",
        "papermill": {
          "duration": 0.056141,
          "end_time": "2022-05-04T02:53:14.745581",
          "exception": false,
          "start_time": "2022-05-04T02:53:14.689440",
          "status": "completed"
        },
        "tags": []
      },
      "source": [
        "# 2. Importing Libraries 📚\n",
        "**Importing libraries** that will be used in this notebook."
      ]
    },
    {
      "cell_type": "code",
      "execution_count": 1,
      "id": "90539c1c",
      "metadata": {
        "execution": {
          "iopub.execute_input": "2022-05-04T02:53:14.868028Z",
          "iopub.status.busy": "2022-05-04T02:53:14.866226Z",
          "iopub.status.idle": "2022-05-04T02:53:15.799024Z",
          "shell.execute_reply": "2022-05-04T02:53:15.798287Z",
          "shell.execute_reply.started": "2022-03-08T01:25:02.454964Z"
        },
        "id": "90539c1c",
        "papermill": {
          "duration": 0.996157,
          "end_time": "2022-05-04T02:53:15.799208",
          "exception": false,
          "start_time": "2022-05-04T02:53:14.803051",
          "status": "completed"
        },
        "tags": []
      },
      "outputs": [],
      "source": [
        "import numpy as np\n",
        "import pandas as pd\n",
        "import matplotlib.pyplot as plt\n",
        "import seaborn as sns\n",
        "from sklearn.model_selection import train_test_split\n",
        "from sklearn.ensemble import RandomForestClassifier\n",
        "from sklearn.metrics import classification_report, confusion_matrix\n",
        "import warnings\n",
        "import pickle\n",
        "from scipy import stats\n",
        "warnings.filterwarnings('ignore')\n",
        "plt.style.use('fivethirtyeight')"
      ]
    },
    {
      "cell_type": "markdown",
      "id": "7c467cc9",
      "metadata": {
        "id": "7c467cc9",
        "papermill": {
          "duration": 0.057851,
          "end_time": "2022-05-04T02:53:15.913048",
          "exception": false,
          "start_time": "2022-05-04T02:53:15.855197",
          "status": "completed"
        },
        "tags": []
      },
      "source": [
        "# 3. Reading Data Set \n",
        "👉 After importing libraries, we will also **import the dataset** that will be used."
      ]
    },
    {
      "cell_type": "code",
      "execution_count": 10,
      "id": "a1887adb",
      "metadata": {
        "execution": {
          "iopub.execute_input": "2022-05-04T02:53:16.032035Z",
          "iopub.status.busy": "2022-05-04T02:53:16.030941Z",
          "iopub.status.idle": "2022-05-04T02:53:16.050526Z",
          "shell.execute_reply": "2022-05-04T02:53:16.051084Z",
          "shell.execute_reply.started": "2022-03-08T01:25:03.464398Z"
        },
        "id": "a1887adb",
        "papermill": {
          "duration": 0.081087,
          "end_time": "2022-05-04T02:53:16.051265",
          "exception": false,
          "start_time": "2022-05-04T02:53:15.970178",
          "status": "completed"
        },
        "tags": []
      },
      "outputs": [],
      "source": [
        "df = pd.read_csv(\"drug200.csv\")"
      ]
    },
    {
      "cell_type": "markdown",
      "id": "68df4414",
      "metadata": {
        "papermill": {
          "duration": 0.056074,
          "end_time": "2022-05-04T02:53:16.164769",
          "exception": false,
          "start_time": "2022-05-04T02:53:16.108695",
          "status": "completed"
        },
        "tags": [],
        "id": "68df4414"
      },
      "source": [
        "👉 Read the first 6 rows in the dataset."
      ]
    },
    {
      "cell_type": "code",
      "execution_count": 11,
      "id": "88dfdd91",
      "metadata": {
        "execution": {
          "iopub.execute_input": "2022-05-04T02:53:16.281366Z",
          "iopub.status.busy": "2022-05-04T02:53:16.280346Z",
          "iopub.status.idle": "2022-05-04T02:53:16.301671Z",
          "shell.execute_reply": "2022-05-04T02:53:16.302171Z",
          "shell.execute_reply.started": "2022-03-08T01:25:03.485176Z"
        },
        "id": "88dfdd91",
        "outputId": "f6614862-28fc-426a-ba3f-f852662e847b",
        "papermill": {
          "duration": 0.081123,
          "end_time": "2022-05-04T02:53:16.302346",
          "exception": false,
          "start_time": "2022-05-04T02:53:16.221223",
          "status": "completed"
        },
        "tags": [],
        "colab": {
          "base_uri": "https://localhost:8080/",
          "height": 206
        }
      },
      "outputs": [
        {
          "output_type": "execute_result",
          "data": {
            "text/plain": [
              "   Age Sex      BP Cholesterol  Na_to_K   Drug\n",
              "0   23   F    HIGH        HIGH   25.355  DrugY\n",
              "1   47   M     LOW        HIGH   13.093  drugC\n",
              "2   47   M     LOW        HIGH   10.114  drugC\n",
              "3   28   F  NORMAL        HIGH    7.798  drugX\n",
              "4   61   F     LOW        HIGH   18.043  DrugY"
            ],
            "text/html": [
              "\n",
              "  <div id=\"df-b6556e14-4d9b-452b-8e06-917fe0161d8e\">\n",
              "    <div class=\"colab-df-container\">\n",
              "      <div>\n",
              "<style scoped>\n",
              "    .dataframe tbody tr th:only-of-type {\n",
              "        vertical-align: middle;\n",
              "    }\n",
              "\n",
              "    .dataframe tbody tr th {\n",
              "        vertical-align: top;\n",
              "    }\n",
              "\n",
              "    .dataframe thead th {\n",
              "        text-align: right;\n",
              "    }\n",
              "</style>\n",
              "<table border=\"1\" class=\"dataframe\">\n",
              "  <thead>\n",
              "    <tr style=\"text-align: right;\">\n",
              "      <th></th>\n",
              "      <th>Age</th>\n",
              "      <th>Sex</th>\n",
              "      <th>BP</th>\n",
              "      <th>Cholesterol</th>\n",
              "      <th>Na_to_K</th>\n",
              "      <th>Drug</th>\n",
              "    </tr>\n",
              "  </thead>\n",
              "  <tbody>\n",
              "    <tr>\n",
              "      <th>0</th>\n",
              "      <td>23</td>\n",
              "      <td>F</td>\n",
              "      <td>HIGH</td>\n",
              "      <td>HIGH</td>\n",
              "      <td>25.355</td>\n",
              "      <td>DrugY</td>\n",
              "    </tr>\n",
              "    <tr>\n",
              "      <th>1</th>\n",
              "      <td>47</td>\n",
              "      <td>M</td>\n",
              "      <td>LOW</td>\n",
              "      <td>HIGH</td>\n",
              "      <td>13.093</td>\n",
              "      <td>drugC</td>\n",
              "    </tr>\n",
              "    <tr>\n",
              "      <th>2</th>\n",
              "      <td>47</td>\n",
              "      <td>M</td>\n",
              "      <td>LOW</td>\n",
              "      <td>HIGH</td>\n",
              "      <td>10.114</td>\n",
              "      <td>drugC</td>\n",
              "    </tr>\n",
              "    <tr>\n",
              "      <th>3</th>\n",
              "      <td>28</td>\n",
              "      <td>F</td>\n",
              "      <td>NORMAL</td>\n",
              "      <td>HIGH</td>\n",
              "      <td>7.798</td>\n",
              "      <td>drugX</td>\n",
              "    </tr>\n",
              "    <tr>\n",
              "      <th>4</th>\n",
              "      <td>61</td>\n",
              "      <td>F</td>\n",
              "      <td>LOW</td>\n",
              "      <td>HIGH</td>\n",
              "      <td>18.043</td>\n",
              "      <td>DrugY</td>\n",
              "    </tr>\n",
              "  </tbody>\n",
              "</table>\n",
              "</div>\n",
              "      <button class=\"colab-df-convert\" onclick=\"convertToInteractive('df-b6556e14-4d9b-452b-8e06-917fe0161d8e')\"\n",
              "              title=\"Convert this dataframe to an interactive table.\"\n",
              "              style=\"display:none;\">\n",
              "        \n",
              "  <svg xmlns=\"http://www.w3.org/2000/svg\" height=\"24px\"viewBox=\"0 0 24 24\"\n",
              "       width=\"24px\">\n",
              "    <path d=\"M0 0h24v24H0V0z\" fill=\"none\"/>\n",
              "    <path d=\"M18.56 5.44l.94 2.06.94-2.06 2.06-.94-2.06-.94-.94-2.06-.94 2.06-2.06.94zm-11 1L8.5 8.5l.94-2.06 2.06-.94-2.06-.94L8.5 2.5l-.94 2.06-2.06.94zm10 10l.94 2.06.94-2.06 2.06-.94-2.06-.94-.94-2.06-.94 2.06-2.06.94z\"/><path d=\"M17.41 7.96l-1.37-1.37c-.4-.4-.92-.59-1.43-.59-.52 0-1.04.2-1.43.59L10.3 9.45l-7.72 7.72c-.78.78-.78 2.05 0 2.83L4 21.41c.39.39.9.59 1.41.59.51 0 1.02-.2 1.41-.59l7.78-7.78 2.81-2.81c.8-.78.8-2.07 0-2.86zM5.41 20L4 18.59l7.72-7.72 1.47 1.35L5.41 20z\"/>\n",
              "  </svg>\n",
              "      </button>\n",
              "      \n",
              "  <style>\n",
              "    .colab-df-container {\n",
              "      display:flex;\n",
              "      flex-wrap:wrap;\n",
              "      gap: 12px;\n",
              "    }\n",
              "\n",
              "    .colab-df-convert {\n",
              "      background-color: #E8F0FE;\n",
              "      border: none;\n",
              "      border-radius: 50%;\n",
              "      cursor: pointer;\n",
              "      display: none;\n",
              "      fill: #1967D2;\n",
              "      height: 32px;\n",
              "      padding: 0 0 0 0;\n",
              "      width: 32px;\n",
              "    }\n",
              "\n",
              "    .colab-df-convert:hover {\n",
              "      background-color: #E2EBFA;\n",
              "      box-shadow: 0px 1px 2px rgba(60, 64, 67, 0.3), 0px 1px 3px 1px rgba(60, 64, 67, 0.15);\n",
              "      fill: #174EA6;\n",
              "    }\n",
              "\n",
              "    [theme=dark] .colab-df-convert {\n",
              "      background-color: #3B4455;\n",
              "      fill: #D2E3FC;\n",
              "    }\n",
              "\n",
              "    [theme=dark] .colab-df-convert:hover {\n",
              "      background-color: #434B5C;\n",
              "      box-shadow: 0px 1px 3px 1px rgba(0, 0, 0, 0.15);\n",
              "      filter: drop-shadow(0px 1px 2px rgba(0, 0, 0, 0.3));\n",
              "      fill: #FFFFFF;\n",
              "    }\n",
              "  </style>\n",
              "\n",
              "      <script>\n",
              "        const buttonEl =\n",
              "          document.querySelector('#df-b6556e14-4d9b-452b-8e06-917fe0161d8e button.colab-df-convert');\n",
              "        buttonEl.style.display =\n",
              "          google.colab.kernel.accessAllowed ? 'block' : 'none';\n",
              "\n",
              "        async function convertToInteractive(key) {\n",
              "          const element = document.querySelector('#df-b6556e14-4d9b-452b-8e06-917fe0161d8e');\n",
              "          const dataTable =\n",
              "            await google.colab.kernel.invokeFunction('convertToInteractive',\n",
              "                                                     [key], {});\n",
              "          if (!dataTable) return;\n",
              "\n",
              "          const docLinkHtml = 'Like what you see? Visit the ' +\n",
              "            '<a target=\"_blank\" href=https://colab.research.google.com/notebooks/data_table.ipynb>data table notebook</a>'\n",
              "            + ' to learn more about interactive tables.';\n",
              "          element.innerHTML = '';\n",
              "          dataTable['output_type'] = 'display_data';\n",
              "          await google.colab.output.renderOutput(dataTable, element);\n",
              "          const docLink = document.createElement('div');\n",
              "          docLink.innerHTML = docLinkHtml;\n",
              "          element.appendChild(docLink);\n",
              "        }\n",
              "      </script>\n",
              "    </div>\n",
              "  </div>\n",
              "  "
            ]
          },
          "metadata": {},
          "execution_count": 11
        }
      ],
      "source": [
        "df.head()"
      ]
    },
    {
      "cell_type": "markdown",
      "id": "7b55524c",
      "metadata": {
        "papermill": {
          "duration": 0.056709,
          "end_time": "2022-05-04T02:53:16.416150",
          "exception": false,
          "start_time": "2022-05-04T02:53:16.359441",
          "status": "completed"
        },
        "tags": [],
        "id": "7b55524c"
      },
      "source": [
        "Data type and checking null in dataset."
      ]
    },
    {
      "cell_type": "code",
      "execution_count": null,
      "id": "843912cf",
      "metadata": {
        "execution": {
          "iopub.execute_input": "2022-05-04T02:53:16.533336Z",
          "iopub.status.busy": "2022-05-04T02:53:16.532328Z",
          "iopub.status.idle": "2022-05-04T02:53:16.554669Z",
          "shell.execute_reply": "2022-05-04T02:53:16.554090Z",
          "shell.execute_reply.started": "2022-03-08T01:25:03.511066Z"
        },
        "id": "843912cf",
        "outputId": "d137ed05-61bb-4a68-e933-5a04cd4d40fe",
        "papermill": {
          "duration": 0.082029,
          "end_time": "2022-05-04T02:53:16.554807",
          "exception": false,
          "start_time": "2022-05-04T02:53:16.472778",
          "status": "completed"
        },
        "tags": [],
        "colab": {
          "base_uri": "https://localhost:8080/"
        }
      },
      "outputs": [
        {
          "output_type": "stream",
          "name": "stdout",
          "text": [
            "<class 'pandas.core.frame.DataFrame'>\n",
            "RangeIndex: 200 entries, 0 to 199\n",
            "Data columns (total 6 columns):\n",
            " #   Column       Non-Null Count  Dtype  \n",
            "---  ------       --------------  -----  \n",
            " 0   Age          200 non-null    int64  \n",
            " 1   Sex          200 non-null    object \n",
            " 2   BP           200 non-null    object \n",
            " 3   Cholesterol  200 non-null    object \n",
            " 4   Na_to_K      200 non-null    float64\n",
            " 5   Drug         200 non-null    object \n",
            "dtypes: float64(1), int64(1), object(4)\n",
            "memory usage: 9.5+ KB\n",
            "None\n"
          ]
        }
      ],
      "source": [
        "print(df.info())"
      ]
    },
    {
      "cell_type": "markdown",
      "id": "860ca740",
      "metadata": {
        "id": "860ca740",
        "papermill": {
          "duration": 0.057812,
          "end_time": "2022-05-04T02:53:16.669450",
          "exception": false,
          "start_time": "2022-05-04T02:53:16.611638",
          "status": "completed"
        },
        "tags": []
      },
      "source": [
        "<i>From the results above, **there are no missing/null value** in this dataset.</i>"
      ]
    },
    {
      "cell_type": "markdown",
      "id": "f6279dae",
      "metadata": {
        "id": "f6279dae",
        "papermill": {
          "duration": 0.057495,
          "end_time": "2022-05-04T02:53:16.784589",
          "exception": false,
          "start_time": "2022-05-04T02:53:16.727094",
          "status": "completed"
        },
        "tags": []
      },
      "source": [
        "# 4. Initial Dataset Exploration \n",
        "<i>This section will explore raw dataset that has been imported.</i>"
      ]
    },
    {
      "cell_type": "markdown",
      "id": "a31947ac",
      "metadata": {
        "id": "a31947ac",
        "papermill": {
          "duration": 0.057762,
          "end_time": "2022-05-04T02:53:16.899871",
          "exception": false,
          "start_time": "2022-05-04T02:53:16.842109",
          "status": "completed"
        },
        "tags": []
      },
      "source": [
        "## 4.1 Categorical Variables "
      ]
    },
    {
      "cell_type": "code",
      "execution_count": null,
      "id": "e050f655",
      "metadata": {
        "execution": {
          "iopub.execute_input": "2022-05-04T02:53:17.021656Z",
          "iopub.status.busy": "2022-05-04T02:53:17.020936Z",
          "iopub.status.idle": "2022-05-04T02:53:17.023487Z",
          "shell.execute_reply": "2022-05-04T02:53:17.023965Z",
          "shell.execute_reply.started": "2022-03-08T01:25:03.538492Z"
        },
        "id": "e050f655",
        "outputId": "d2ab34c2-4b49-43b5-c255-b59264847e19",
        "papermill": {
          "duration": 0.066593,
          "end_time": "2022-05-04T02:53:17.024144",
          "exception": false,
          "start_time": "2022-05-04T02:53:16.957551",
          "status": "completed"
        },
        "tags": [],
        "colab": {
          "base_uri": "https://localhost:8080/"
        }
      },
      "outputs": [
        {
          "output_type": "execute_result",
          "data": {
            "text/plain": [
              "DrugY    91\n",
              "drugX    54\n",
              "drugA    23\n",
              "drugC    16\n",
              "drugB    16\n",
              "Name: Drug, dtype: int64"
            ]
          },
          "metadata": {},
          "execution_count": 7
        }
      ],
      "source": [
        "df.Drug.value_counts()"
      ]
    },
    {
      "cell_type": "markdown",
      "id": "caa5dd68",
      "metadata": {
        "papermill": {
          "duration": 0.057562,
          "end_time": "2022-05-04T02:53:17.141493",
          "exception": false,
          "start_time": "2022-05-04T02:53:17.083931",
          "status": "completed"
        },
        "tags": [],
        "id": "caa5dd68"
      },
      "source": [
        "<i>It can be seen that from results above, DrugY has more amount than other types of drugs.</i>"
      ]
    },
    {
      "cell_type": "code",
      "execution_count": null,
      "id": "bbef0bb9",
      "metadata": {
        "execution": {
          "iopub.execute_input": "2022-05-04T02:53:17.266669Z",
          "iopub.status.busy": "2022-05-04T02:53:17.265888Z",
          "iopub.status.idle": "2022-05-04T02:53:17.268554Z",
          "shell.execute_reply": "2022-05-04T02:53:17.269050Z",
          "shell.execute_reply.started": "2022-03-08T01:25:03.546771Z"
        },
        "id": "bbef0bb9",
        "outputId": "a67619c9-ce94-4def-d882-a7e0ce48cecf",
        "papermill": {
          "duration": 0.069027,
          "end_time": "2022-05-04T02:53:17.269219",
          "exception": false,
          "start_time": "2022-05-04T02:53:17.200192",
          "status": "completed"
        },
        "tags": [],
        "colab": {
          "base_uri": "https://localhost:8080/"
        }
      },
      "outputs": [
        {
          "output_type": "execute_result",
          "data": {
            "text/plain": [
              "M    104\n",
              "F     96\n",
              "Name: Sex, dtype: int64"
            ]
          },
          "metadata": {},
          "execution_count": 8
        }
      ],
      "source": [
        "df.Sex.value_counts()"
      ]
    },
    {
      "cell_type": "markdown",
      "id": "07b15aad",
      "metadata": {
        "papermill": {
          "duration": 0.058057,
          "end_time": "2022-05-04T02:53:17.385194",
          "exception": false,
          "start_time": "2022-05-04T02:53:17.327137",
          "status": "completed"
        },
        "tags": [],
        "id": "07b15aad"
      },
      "source": [
        "<i>The distribution of patient gender is balanced.</i>"
      ]
    },
    {
      "cell_type": "code",
      "execution_count": null,
      "id": "9b0f21a5",
      "metadata": {
        "execution": {
          "iopub.execute_input": "2022-05-04T02:53:17.504646Z",
          "iopub.status.busy": "2022-05-04T02:53:17.503962Z",
          "iopub.status.idle": "2022-05-04T02:53:17.510342Z",
          "shell.execute_reply": "2022-05-04T02:53:17.510834Z",
          "shell.execute_reply.started": "2022-03-08T01:25:03.563382Z"
        },
        "id": "9b0f21a5",
        "outputId": "49484978-8d3c-41d6-c3df-0f17f6bd2deb",
        "papermill": {
          "duration": 0.068053,
          "end_time": "2022-05-04T02:53:17.511016",
          "exception": false,
          "start_time": "2022-05-04T02:53:17.442963",
          "status": "completed"
        },
        "tags": [],
        "colab": {
          "base_uri": "https://localhost:8080/"
        }
      },
      "outputs": [
        {
          "output_type": "execute_result",
          "data": {
            "text/plain": [
              "HIGH      77\n",
              "LOW       64\n",
              "NORMAL    59\n",
              "Name: BP, dtype: int64"
            ]
          },
          "metadata": {},
          "execution_count": 9
        }
      ],
      "source": [
        "df.BP.value_counts()"
      ]
    },
    {
      "cell_type": "markdown",
      "id": "56a6a9c1",
      "metadata": {
        "papermill": {
          "duration": 0.05821,
          "end_time": "2022-05-04T02:53:17.627278",
          "exception": false,
          "start_time": "2022-05-04T02:53:17.569068",
          "status": "completed"
        },
        "tags": [],
        "id": "56a6a9c1"
      },
      "source": [
        "<i> The distribution of blood pressure level is balanced.</i>"
      ]
    },
    {
      "cell_type": "code",
      "execution_count": null,
      "id": "5752ef37",
      "metadata": {
        "execution": {
          "iopub.execute_input": "2022-05-04T02:53:17.747354Z",
          "iopub.status.busy": "2022-05-04T02:53:17.746682Z",
          "iopub.status.idle": "2022-05-04T02:53:17.753436Z",
          "shell.execute_reply": "2022-05-04T02:53:17.753894Z",
          "shell.execute_reply.started": "2022-03-08T01:25:03.57581Z"
        },
        "id": "5752ef37",
        "outputId": "7017ef58-cf92-433d-ea53-a0864e316678",
        "papermill": {
          "duration": 0.068382,
          "end_time": "2022-05-04T02:53:17.754083",
          "exception": false,
          "start_time": "2022-05-04T02:53:17.685701",
          "status": "completed"
        },
        "tags": [],
        "colab": {
          "base_uri": "https://localhost:8080/"
        }
      },
      "outputs": [
        {
          "output_type": "execute_result",
          "data": {
            "text/plain": [
              "HIGH      103\n",
              "NORMAL     97\n",
              "Name: Cholesterol, dtype: int64"
            ]
          },
          "metadata": {},
          "execution_count": 10
        }
      ],
      "source": [
        "df.Cholesterol.value_counts()"
      ]
    },
    {
      "cell_type": "markdown",
      "id": "f69b4170",
      "metadata": {
        "papermill": {
          "duration": 0.058173,
          "end_time": "2022-05-04T02:53:17.870825",
          "exception": false,
          "start_time": "2022-05-04T02:53:17.812652",
          "status": "completed"
        },
        "tags": [],
        "id": "f69b4170"
      },
      "source": [
        "The distribution of cholesterol level is balanced."
      ]
    },
    {
      "cell_type": "markdown",
      "id": "e20fcf08",
      "metadata": {
        "id": "e20fcf08",
        "papermill": {
          "duration": 0.058361,
          "end_time": "2022-05-04T02:53:17.988171",
          "exception": false,
          "start_time": "2022-05-04T02:53:17.929810",
          "status": "completed"
        },
        "tags": []
      },
      "source": [
        "## 4.2 Descriptive Analysis \n",
        "This section will show the dataset information using describe function. The skewness value for each numerical variables will also shown in this section."
      ]
    },
    {
      "cell_type": "code",
      "execution_count": 5,
      "id": "842d6bb1",
      "metadata": {
        "execution": {
          "iopub.execute_input": "2022-05-04T02:53:18.112352Z",
          "iopub.status.busy": "2022-05-04T02:53:18.111629Z",
          "iopub.status.idle": "2022-05-04T02:53:18.129693Z",
          "shell.execute_reply": "2022-05-04T02:53:18.130304Z",
          "shell.execute_reply.started": "2022-03-08T01:25:03.593112Z"
        },
        "id": "842d6bb1",
        "outputId": "41ccaadc-5f05-41f9-dcb1-b40f7e8ca61d",
        "papermill": {
          "duration": 0.080455,
          "end_time": "2022-05-04T02:53:18.130484",
          "exception": false,
          "start_time": "2022-05-04T02:53:18.050029",
          "status": "completed"
        },
        "tags": [],
        "colab": {
          "base_uri": "https://localhost:8080/",
          "height": 394
        }
      },
      "outputs": [
        {
          "output_type": "execute_result",
          "data": {
            "text/plain": [
              "               Age  Sex    BP Cholesterol     Na_to_K   Drug\n",
              "count   200.000000  200   200         200  200.000000    200\n",
              "unique         NaN    2     3           2         NaN      5\n",
              "top            NaN    M  HIGH        HIGH         NaN  DrugY\n",
              "freq           NaN  104    77         103         NaN     91\n",
              "mean     44.315000  NaN   NaN         NaN   16.084485    NaN\n",
              "std      16.544315  NaN   NaN         NaN    7.223956    NaN\n",
              "min      15.000000  NaN   NaN         NaN    6.269000    NaN\n",
              "25%      31.000000  NaN   NaN         NaN   10.445500    NaN\n",
              "50%      45.000000  NaN   NaN         NaN   13.936500    NaN\n",
              "75%      58.000000  NaN   NaN         NaN   19.380000    NaN\n",
              "max      74.000000  NaN   NaN         NaN   38.247000    NaN"
            ],
            "text/html": [
              "\n",
              "  <div id=\"df-e446f7be-c988-41aa-a7a6-e6090f113d4c\">\n",
              "    <div class=\"colab-df-container\">\n",
              "      <div>\n",
              "<style scoped>\n",
              "    .dataframe tbody tr th:only-of-type {\n",
              "        vertical-align: middle;\n",
              "    }\n",
              "\n",
              "    .dataframe tbody tr th {\n",
              "        vertical-align: top;\n",
              "    }\n",
              "\n",
              "    .dataframe thead th {\n",
              "        text-align: right;\n",
              "    }\n",
              "</style>\n",
              "<table border=\"1\" class=\"dataframe\">\n",
              "  <thead>\n",
              "    <tr style=\"text-align: right;\">\n",
              "      <th></th>\n",
              "      <th>Age</th>\n",
              "      <th>Sex</th>\n",
              "      <th>BP</th>\n",
              "      <th>Cholesterol</th>\n",
              "      <th>Na_to_K</th>\n",
              "      <th>Drug</th>\n",
              "    </tr>\n",
              "  </thead>\n",
              "  <tbody>\n",
              "    <tr>\n",
              "      <th>count</th>\n",
              "      <td>200.000000</td>\n",
              "      <td>200</td>\n",
              "      <td>200</td>\n",
              "      <td>200</td>\n",
              "      <td>200.000000</td>\n",
              "      <td>200</td>\n",
              "    </tr>\n",
              "    <tr>\n",
              "      <th>unique</th>\n",
              "      <td>NaN</td>\n",
              "      <td>2</td>\n",
              "      <td>3</td>\n",
              "      <td>2</td>\n",
              "      <td>NaN</td>\n",
              "      <td>5</td>\n",
              "    </tr>\n",
              "    <tr>\n",
              "      <th>top</th>\n",
              "      <td>NaN</td>\n",
              "      <td>M</td>\n",
              "      <td>HIGH</td>\n",
              "      <td>HIGH</td>\n",
              "      <td>NaN</td>\n",
              "      <td>DrugY</td>\n",
              "    </tr>\n",
              "    <tr>\n",
              "      <th>freq</th>\n",
              "      <td>NaN</td>\n",
              "      <td>104</td>\n",
              "      <td>77</td>\n",
              "      <td>103</td>\n",
              "      <td>NaN</td>\n",
              "      <td>91</td>\n",
              "    </tr>\n",
              "    <tr>\n",
              "      <th>mean</th>\n",
              "      <td>44.315000</td>\n",
              "      <td>NaN</td>\n",
              "      <td>NaN</td>\n",
              "      <td>NaN</td>\n",
              "      <td>16.084485</td>\n",
              "      <td>NaN</td>\n",
              "    </tr>\n",
              "    <tr>\n",
              "      <th>std</th>\n",
              "      <td>16.544315</td>\n",
              "      <td>NaN</td>\n",
              "      <td>NaN</td>\n",
              "      <td>NaN</td>\n",
              "      <td>7.223956</td>\n",
              "      <td>NaN</td>\n",
              "    </tr>\n",
              "    <tr>\n",
              "      <th>min</th>\n",
              "      <td>15.000000</td>\n",
              "      <td>NaN</td>\n",
              "      <td>NaN</td>\n",
              "      <td>NaN</td>\n",
              "      <td>6.269000</td>\n",
              "      <td>NaN</td>\n",
              "    </tr>\n",
              "    <tr>\n",
              "      <th>25%</th>\n",
              "      <td>31.000000</td>\n",
              "      <td>NaN</td>\n",
              "      <td>NaN</td>\n",
              "      <td>NaN</td>\n",
              "      <td>10.445500</td>\n",
              "      <td>NaN</td>\n",
              "    </tr>\n",
              "    <tr>\n",
              "      <th>50%</th>\n",
              "      <td>45.000000</td>\n",
              "      <td>NaN</td>\n",
              "      <td>NaN</td>\n",
              "      <td>NaN</td>\n",
              "      <td>13.936500</td>\n",
              "      <td>NaN</td>\n",
              "    </tr>\n",
              "    <tr>\n",
              "      <th>75%</th>\n",
              "      <td>58.000000</td>\n",
              "      <td>NaN</td>\n",
              "      <td>NaN</td>\n",
              "      <td>NaN</td>\n",
              "      <td>19.380000</td>\n",
              "      <td>NaN</td>\n",
              "    </tr>\n",
              "    <tr>\n",
              "      <th>max</th>\n",
              "      <td>74.000000</td>\n",
              "      <td>NaN</td>\n",
              "      <td>NaN</td>\n",
              "      <td>NaN</td>\n",
              "      <td>38.247000</td>\n",
              "      <td>NaN</td>\n",
              "    </tr>\n",
              "  </tbody>\n",
              "</table>\n",
              "</div>\n",
              "      <button class=\"colab-df-convert\" onclick=\"convertToInteractive('df-e446f7be-c988-41aa-a7a6-e6090f113d4c')\"\n",
              "              title=\"Convert this dataframe to an interactive table.\"\n",
              "              style=\"display:none;\">\n",
              "        \n",
              "  <svg xmlns=\"http://www.w3.org/2000/svg\" height=\"24px\"viewBox=\"0 0 24 24\"\n",
              "       width=\"24px\">\n",
              "    <path d=\"M0 0h24v24H0V0z\" fill=\"none\"/>\n",
              "    <path d=\"M18.56 5.44l.94 2.06.94-2.06 2.06-.94-2.06-.94-.94-2.06-.94 2.06-2.06.94zm-11 1L8.5 8.5l.94-2.06 2.06-.94-2.06-.94L8.5 2.5l-.94 2.06-2.06.94zm10 10l.94 2.06.94-2.06 2.06-.94-2.06-.94-.94-2.06-.94 2.06-2.06.94z\"/><path d=\"M17.41 7.96l-1.37-1.37c-.4-.4-.92-.59-1.43-.59-.52 0-1.04.2-1.43.59L10.3 9.45l-7.72 7.72c-.78.78-.78 2.05 0 2.83L4 21.41c.39.39.9.59 1.41.59.51 0 1.02-.2 1.41-.59l7.78-7.78 2.81-2.81c.8-.78.8-2.07 0-2.86zM5.41 20L4 18.59l7.72-7.72 1.47 1.35L5.41 20z\"/>\n",
              "  </svg>\n",
              "      </button>\n",
              "      \n",
              "  <style>\n",
              "    .colab-df-container {\n",
              "      display:flex;\n",
              "      flex-wrap:wrap;\n",
              "      gap: 12px;\n",
              "    }\n",
              "\n",
              "    .colab-df-convert {\n",
              "      background-color: #E8F0FE;\n",
              "      border: none;\n",
              "      border-radius: 50%;\n",
              "      cursor: pointer;\n",
              "      display: none;\n",
              "      fill: #1967D2;\n",
              "      height: 32px;\n",
              "      padding: 0 0 0 0;\n",
              "      width: 32px;\n",
              "    }\n",
              "\n",
              "    .colab-df-convert:hover {\n",
              "      background-color: #E2EBFA;\n",
              "      box-shadow: 0px 1px 2px rgba(60, 64, 67, 0.3), 0px 1px 3px 1px rgba(60, 64, 67, 0.15);\n",
              "      fill: #174EA6;\n",
              "    }\n",
              "\n",
              "    [theme=dark] .colab-df-convert {\n",
              "      background-color: #3B4455;\n",
              "      fill: #D2E3FC;\n",
              "    }\n",
              "\n",
              "    [theme=dark] .colab-df-convert:hover {\n",
              "      background-color: #434B5C;\n",
              "      box-shadow: 0px 1px 3px 1px rgba(0, 0, 0, 0.15);\n",
              "      filter: drop-shadow(0px 1px 2px rgba(0, 0, 0, 0.3));\n",
              "      fill: #FFFFFF;\n",
              "    }\n",
              "  </style>\n",
              "\n",
              "      <script>\n",
              "        const buttonEl =\n",
              "          document.querySelector('#df-e446f7be-c988-41aa-a7a6-e6090f113d4c button.colab-df-convert');\n",
              "        buttonEl.style.display =\n",
              "          google.colab.kernel.accessAllowed ? 'block' : 'none';\n",
              "\n",
              "        async function convertToInteractive(key) {\n",
              "          const element = document.querySelector('#df-e446f7be-c988-41aa-a7a6-e6090f113d4c');\n",
              "          const dataTable =\n",
              "            await google.colab.kernel.invokeFunction('convertToInteractive',\n",
              "                                                     [key], {});\n",
              "          if (!dataTable) return;\n",
              "\n",
              "          const docLinkHtml = 'Like what you see? Visit the ' +\n",
              "            '<a target=\"_blank\" href=https://colab.research.google.com/notebooks/data_table.ipynb>data table notebook</a>'\n",
              "            + ' to learn more about interactive tables.';\n",
              "          element.innerHTML = '';\n",
              "          dataTable['output_type'] = 'display_data';\n",
              "          await google.colab.output.renderOutput(dataTable, element);\n",
              "          const docLink = document.createElement('div');\n",
              "          docLink.innerHTML = docLinkHtml;\n",
              "          element.appendChild(docLink);\n",
              "        }\n",
              "      </script>\n",
              "    </div>\n",
              "  </div>\n",
              "  "
            ]
          },
          "metadata": {},
          "execution_count": 5
        }
      ],
      "source": [
        "df.describe(include=\"all\")"
      ]
    },
    {
      "cell_type": "code",
      "execution_count": null,
      "id": "e268a9e1",
      "metadata": {
        "execution": {
          "iopub.execute_input": "2022-05-04T02:53:18.251488Z",
          "iopub.status.busy": "2022-05-04T02:53:18.250854Z",
          "iopub.status.idle": "2022-05-04T02:53:18.257055Z",
          "shell.execute_reply": "2022-05-04T02:53:18.256536Z",
          "shell.execute_reply.started": "2022-03-08T01:25:03.622219Z"
        },
        "id": "e268a9e1",
        "outputId": "7701a052-7b8e-4333-e272-894dc5f31ea1",
        "papermill": {
          "duration": 0.067738,
          "end_time": "2022-05-04T02:53:18.257199",
          "exception": false,
          "start_time": "2022-05-04T02:53:18.189461",
          "status": "completed"
        },
        "tags": [],
        "colab": {
          "base_uri": "https://localhost:8080/"
        }
      },
      "outputs": [
        {
          "output_type": "stream",
          "name": "stdout",
          "text": [
            "Age skewness:  0.03030835703000607\n"
          ]
        }
      ],
      "source": [
        "skewAge = df.Age.skew(axis = 0, skipna = True)\n",
        "print('Age skewness: ', skewAge)"
      ]
    },
    {
      "cell_type": "code",
      "execution_count": null,
      "id": "fd9c19cb",
      "metadata": {
        "execution": {
          "iopub.execute_input": "2022-05-04T02:53:18.382600Z",
          "iopub.status.busy": "2022-05-04T02:53:18.381856Z",
          "iopub.status.idle": "2022-05-04T02:53:18.384728Z",
          "shell.execute_reply": "2022-05-04T02:53:18.385264Z",
          "shell.execute_reply.started": "2022-03-08T01:25:03.630015Z"
        },
        "id": "fd9c19cb",
        "outputId": "8e2b7e95-5868-4cfb-a18c-e24db8b936ad",
        "papermill": {
          "duration": 0.068745,
          "end_time": "2022-05-04T02:53:18.385446",
          "exception": false,
          "start_time": "2022-05-04T02:53:18.316701",
          "status": "completed"
        },
        "tags": [],
        "colab": {
          "base_uri": "https://localhost:8080/"
        }
      },
      "outputs": [
        {
          "output_type": "stream",
          "name": "stdout",
          "text": [
            "Na to K skewness:  1.039341186028881\n"
          ]
        }
      ],
      "source": [
        "skewNatoK = df.Na_to_K.skew(axis = 0, skipna = True)\n",
        "print('Na to K skewness: ', skewNatoK)"
      ]
    },
    {
      "cell_type": "code",
      "execution_count": null,
      "id": "7ddf6a33",
      "metadata": {
        "execution": {
          "iopub.execute_input": "2022-05-04T02:53:18.508632Z",
          "iopub.status.busy": "2022-05-04T02:53:18.507903Z",
          "iopub.status.idle": "2022-05-04T02:53:18.803949Z",
          "shell.execute_reply": "2022-05-04T02:53:18.803421Z",
          "shell.execute_reply.started": "2022-03-08T01:25:03.649478Z"
        },
        "id": "7ddf6a33",
        "outputId": "2d1b4843-1650-49fd-cbcd-bd83344cea7c",
        "papermill": {
          "duration": 0.35869,
          "end_time": "2022-05-04T02:53:18.804107",
          "exception": false,
          "start_time": "2022-05-04T02:53:18.445417",
          "status": "completed"
        },
        "tags": [],
        "colab": {
          "base_uri": "https://localhost:8080/",
          "height": 334
        }
      },
      "outputs": [
        {
          "output_type": "stream",
          "name": "stderr",
          "text": [
            "/usr/local/lib/python3.7/dist-packages/seaborn/distributions.py:2619: FutureWarning: `distplot` is a deprecated function and will be removed in a future version. Please adapt your code to use either `displot` (a figure-level function with similar flexibility) or `histplot` (an axes-level function for histograms).\n",
            "  warnings.warn(msg, FutureWarning)\n"
          ]
        },
        {
          "output_type": "display_data",
          "data": {
            "text/plain": [
              "<Figure size 432x288 with 1 Axes>"
            ],
            "image/png": "[encoded data removed]"
          },
          "metadata": {
            "needs_background": "light"
          }
        }
      ],
      "source": [
        "sns.distplot(df['Age']);"
      ]
    },
    {
      "cell_type": "code",
      "execution_count": null,
      "id": "958118d2",
      "metadata": {
        "execution": {
          "iopub.execute_input": "2022-05-04T02:53:18.938872Z",
          "iopub.status.busy": "2022-05-04T02:53:18.937454Z",
          "iopub.status.idle": "2022-05-04T02:53:19.174592Z",
          "shell.execute_reply": "2022-05-04T02:53:19.174047Z",
          "shell.execute_reply.started": "2022-03-08T01:25:03.974898Z"
        },
        "id": "958118d2",
        "outputId": "4653b062-99be-4c69-8d7f-85a283283a45",
        "papermill": {
          "duration": 0.309413,
          "end_time": "2022-05-04T02:53:19.174740",
          "exception": false,
          "start_time": "2022-05-04T02:53:18.865327",
          "status": "completed"
        },
        "tags": [],
        "colab": {
          "base_uri": "https://localhost:8080/",
          "height": 335
        }
      },
      "outputs": [
        {
          "output_type": "stream",
          "name": "stderr",
          "text": [
            "/usr/local/lib/python3.7/dist-packages/seaborn/distributions.py:2619: FutureWarning: `distplot` is a deprecated function and will be removed in a future version. Please adapt your code to use either `displot` (a figure-level function with similar flexibility) or `histplot` (an axes-level function for histograms).\n",
            "  warnings.warn(msg, FutureWarning)\n"
          ]
        },
        {
          "output_type": "display_data",
          "data": {
            "text/plain": [
              "<Figure size 432x288 with 1 Axes>"
            ],
            "image/png": "[encoded data removed]"
          },
          "metadata": {
            "needs_background": "light"
          }
        }
      ],
      "source": [
        "sns.distplot(df['Na_to_K']);"
      ]
    },
    {
      "cell_type": "markdown",
      "id": "33299d3d",
      "metadata": {
        "id": "33299d3d",
        "papermill": {
          "duration": 0.061768,
          "end_time": "2022-05-04T02:53:19.298710",
          "exception": false,
          "start_time": "2022-05-04T02:53:19.236942",
          "status": "completed"
        },
        "tags": []
      },
      "source": [
        "👉The distribution of **'Age'** column is **symetric**, since the skewness value  between -0.5 and 0.5 <br>\n",
        "👉The distribution of **'Na_to_K'** column is **moderately skewed**, since the skewness value is ***between 0.5 and 1***. It can also be seen from the histogram for 'Na_to_K' column"
      ]
    },
    {
      "cell_type": "markdown",
      "id": "eebd8206",
      "metadata": {
        "id": "eebd8206",
        "papermill": {
          "duration": 0.062761,
          "end_time": "2022-05-04T02:53:19.423839",
          "exception": false,
          "start_time": "2022-05-04T02:53:19.361078",
          "status": "completed"
        },
        "tags": []
      },
      "source": [
        "# 5. Univariate Analysis\n",
        "This section will explore variables in the dataset using different various plots/charts."
      ]
    },
    {
      "cell_type": "markdown",
      "id": "60ab525d",
      "metadata": {
        "papermill": {
          "duration": 0.062967,
          "end_time": "2022-05-04T02:53:19.549496",
          "exception": false,
          "start_time": "2022-05-04T02:53:19.486529",
          "status": "completed"
        },
        "tags": [],
        "id": "60ab525d"
      },
      "source": [
        "## 5.1 Drug Type Distribution 💊"
      ]
    },
    {
      "cell_type": "code",
      "execution_count": null,
      "id": "a01e63d1",
      "metadata": {
        "execution": {
          "iopub.execute_input": "2022-05-04T02:53:19.724918Z",
          "iopub.status.busy": "2022-05-04T02:53:19.716349Z",
          "iopub.status.idle": "2022-05-04T02:53:19.923759Z",
          "shell.execute_reply": "2022-05-04T02:53:19.923099Z",
          "shell.execute_reply.started": "2022-03-08T01:25:04.226881Z"
        },
        "id": "a01e63d1",
        "outputId": "b15dfc29-b94a-4c9c-f6c8-8826beb596e4",
        "papermill": {
          "duration": 0.311857,
          "end_time": "2022-05-04T02:53:19.923903",
          "exception": false,
          "start_time": "2022-05-04T02:53:19.612046",
          "status": "completed"
        },
        "tags": [],
        "colab": {
          "base_uri": "https://localhost:8080/",
          "height": 285
        }
      },
      "outputs": [
        {
          "output_type": "display_data",
          "data": {
            "text/plain": [
              "<Figure size 432x288 with 1 Axes>"
            ],
            "image/png": "[encoded data removed]"
          },
          "metadata": {}
        }
      ],
      "source": [
        "sns.set_theme(style=\"darkgrid\")\n",
        "sns.countplot(y=\"Drug\", data=df, palette=\"flare\")\n",
        "plt.ylabel('Drug Type')\n",
        "plt.xlabel('Total')\n",
        "plt.show()"
      ]
    },
    {
      "cell_type": "markdown",
      "id": "0cd51b83",
      "metadata": {
        "papermill": {
          "duration": 0.064585,
          "end_time": "2022-05-04T02:53:20.052131",
          "exception": false,
          "start_time": "2022-05-04T02:53:19.987546",
          "status": "completed"
        },
        "tags": [],
        "id": "0cd51b83"
      },
      "source": [
        "## 5.2 Gender Distribution 👫"
      ]
    },
    {
      "cell_type": "code",
      "execution_count": null,
      "id": "9067bc0c",
      "metadata": {
        "execution": {
          "iopub.execute_input": "2022-05-04T02:53:20.189754Z",
          "iopub.status.busy": "2022-05-04T02:53:20.188702Z",
          "iopub.status.idle": "2022-05-04T02:53:20.366441Z",
          "shell.execute_reply": "2022-05-04T02:53:20.365536Z",
          "shell.execute_reply.started": "2022-03-08T01:25:04.472525Z"
        },
        "id": "9067bc0c",
        "outputId": "6963bc0f-5032-458b-f147-6c4b7d82c803",
        "papermill": {
          "duration": 0.251468,
          "end_time": "2022-05-04T02:53:20.366595",
          "exception": false,
          "start_time": "2022-05-04T02:53:20.115127",
          "status": "completed"
        },
        "tags": [],
        "colab": {
          "base_uri": "https://localhost:8080/",
          "height": 285
        }
      },
      "outputs": [
        {
          "output_type": "display_data",
          "data": {
            "text/plain": [
              "<Figure size 432x288 with 1 Axes>"
            ],
            "image/png": "[encoded data removed]"
          },
          "metadata": {}
        }
      ],
      "source": [
        "sns.set_theme(style=\"darkgrid\")\n",
        "sns.countplot(x=\"Sex\", data=df, palette=\"rocket\")\n",
        "plt.xlabel('Gender (F=Female, M=Male)')\n",
        "plt.ylabel('Total')\n",
        "plt.show()"
      ]
    },
    {
      "cell_type": "markdown",
      "id": "e27a6097",
      "metadata": {
        "papermill": {
          "duration": 0.063698,
          "end_time": "2022-05-04T02:53:20.493951",
          "exception": false,
          "start_time": "2022-05-04T02:53:20.430253",
          "status": "completed"
        },
        "tags": [],
        "id": "e27a6097"
      },
      "source": [
        "## 5.3 Blood Pressure Distribution 🩸"
      ]
    },
    {
      "cell_type": "code",
      "execution_count": null,
      "id": "e7df4e15",
      "metadata": {
        "execution": {
          "iopub.execute_input": "2022-05-04T02:53:20.626025Z",
          "iopub.status.busy": "2022-05-04T02:53:20.625073Z",
          "iopub.status.idle": "2022-05-04T02:53:20.872608Z",
          "shell.execute_reply": "2022-05-04T02:53:20.873112Z",
          "shell.execute_reply.started": "2022-03-08T01:25:04.605906Z"
        },
        "id": "e7df4e15",
        "outputId": "c94a8f2c-7a1d-4282-c269-4a6d66b1a9ad",
        "papermill": {
          "duration": 0.315177,
          "end_time": "2022-05-04T02:53:20.873283",
          "exception": false,
          "start_time": "2022-05-04T02:53:20.558106",
          "status": "completed"
        },
        "tags": [],
        "colab": {
          "base_uri": "https://localhost:8080/",
          "height": 285
        }
      },
      "outputs": [
        {
          "output_type": "display_data",
          "data": {
            "text/plain": [
              "<Figure size 432x288 with 1 Axes>"
            ],
            "image/png": "[encoded data removed]"
          },
          "metadata": {}
        }
      ],
      "source": [
        "sns.set_theme(style=\"darkgrid\")\n",
        "sns.countplot(y=\"BP\", data=df, palette=\"crest\")\n",
        "plt.ylabel('Blood Pressure')\n",
        "plt.xlabel('Total')\n",
        "plt.show()"
      ]
    },
    {
      "cell_type": "markdown",
      "id": "38cabf42",
      "metadata": {
        "papermill": {
          "duration": 0.065226,
          "end_time": "2022-05-04T02:53:21.002747",
          "exception": false,
          "start_time": "2022-05-04T02:53:20.937521",
          "status": "completed"
        },
        "tags": [],
        "id": "38cabf42"
      },
      "source": [
        "## 5.4 Cholesterol Distribution 🥛"
      ]
    },
    {
      "cell_type": "code",
      "execution_count": null,
      "id": "32c5340e",
      "metadata": {
        "execution": {
          "iopub.execute_input": "2022-05-04T02:53:21.155557Z",
          "iopub.status.busy": "2022-05-04T02:53:21.143532Z",
          "iopub.status.idle": "2022-05-04T02:53:21.322182Z",
          "shell.execute_reply": "2022-05-04T02:53:21.321627Z",
          "shell.execute_reply.started": "2022-03-08T01:25:04.880578Z"
        },
        "id": "32c5340e",
        "outputId": "a61d7889-fc95-47c9-a404-617feacdc4f4",
        "papermill": {
          "duration": 0.251628,
          "end_time": "2022-05-04T02:53:21.322329",
          "exception": false,
          "start_time": "2022-05-04T02:53:21.070701",
          "status": "completed"
        },
        "tags": [],
        "colab": {
          "base_uri": "https://localhost:8080/",
          "height": 285
        }
      },
      "outputs": [
        {
          "output_type": "display_data",
          "data": {
            "text/plain": [
              "<Figure size 432x288 with 1 Axes>"
            ],
            "image/png": "[encoded data removed]"
          },
          "metadata": {}
        }
      ],
      "source": [
        "sns.set_theme(style=\"darkgrid\")\n",
        "sns.countplot(x=\"Cholesterol\", data=df, palette=\"magma\")\n",
        "plt.xlabel('Blood Pressure')\n",
        "plt.ylabel('Total')\n",
        "plt.show()"
      ]
    },
    {
      "cell_type": "markdown",
      "id": "ff352dc3",
      "metadata": {
        "papermill": {
          "duration": 0.065165,
          "end_time": "2022-05-04T02:53:21.453075",
          "exception": false,
          "start_time": "2022-05-04T02:53:21.387910",
          "status": "completed"
        },
        "tags": [],
        "id": "ff352dc3"
      },
      "source": [
        "## 5.5 Gender Distribution based on Drug Type 👫💊"
      ]
    },
    {
      "cell_type": "code",
      "execution_count": null,
      "id": "87415cf4",
      "metadata": {
        "execution": {
          "iopub.execute_input": "2022-05-04T02:53:21.591812Z",
          "iopub.status.busy": "2022-05-04T02:53:21.591101Z",
          "iopub.status.idle": "2022-05-04T02:53:21.996703Z",
          "shell.execute_reply": "2022-05-04T02:53:21.996192Z",
          "shell.execute_reply.started": "2022-03-08T01:25:05.069947Z"
        },
        "id": "87415cf4",
        "outputId": "1de62e43-0dc2-4847-fa2d-b8741844ed2f",
        "papermill": {
          "duration": 0.47819,
          "end_time": "2022-05-04T02:53:21.996859",
          "exception": false,
          "start_time": "2022-05-04T02:53:21.518669",
          "status": "completed"
        },
        "tags": [],
        "colab": {
          "base_uri": "https://localhost:8080/",
          "height": 355
        }
      },
      "outputs": [
        {
          "output_type": "display_data",
          "data": {
            "text/plain": [
              "<Figure size 864x360 with 1 Axes>"
            ],
            "image/png": "[encoded data removed]"
          },
          "metadata": {}
        }
      ],
      "source": [
        "pd.crosstab(df.Sex,df.Drug).plot(kind=\"bar\",figsize=(12,5),color=['#003f5c','#ffa600','#58508d','#bc5090','#ff6361'])\n",
        "plt.title('Gender distribution based on Drug type')\n",
        "plt.xlabel('Gender')\n",
        "plt.xticks(rotation=0)\n",
        "plt.ylabel('Frequency')\n",
        "plt.show()"
      ]
    },
    {
      "cell_type": "markdown",
      "id": "d8cb41b9",
      "metadata": {
        "papermill": {
          "duration": 0.06602,
          "end_time": "2022-05-04T02:53:22.130021",
          "exception": false,
          "start_time": "2022-05-04T02:53:22.064001",
          "status": "completed"
        },
        "tags": [],
        "id": "d8cb41b9"
      },
      "source": [
        "## 5.6 Blood Pressure Distribution based on Cholesetrol 🩸🥛"
      ]
    },
    {
      "cell_type": "code",
      "execution_count": null,
      "id": "c8bc5489",
      "metadata": {
        "execution": {
          "iopub.execute_input": "2022-05-04T02:53:22.269081Z",
          "iopub.status.busy": "2022-05-04T02:53:22.268387Z",
          "iopub.status.idle": "2022-05-04T02:53:22.545829Z",
          "shell.execute_reply": "2022-05-04T02:53:22.546315Z",
          "shell.execute_reply.started": "2022-03-08T01:25:05.486231Z"
        },
        "id": "c8bc5489",
        "outputId": "8228d4a1-ab5d-4b1c-9ef3-058c464763d2",
        "papermill": {
          "duration": 0.349573,
          "end_time": "2022-05-04T02:53:22.546494",
          "exception": false,
          "start_time": "2022-05-04T02:53:22.196921",
          "status": "completed"
        },
        "tags": [],
        "colab": {
          "base_uri": "https://localhost:8080/",
          "height": 410
        }
      },
      "outputs": [
        {
          "output_type": "display_data",
          "data": {
            "text/plain": [
              "<Figure size 1080x432 with 1 Axes>"
            ],
            "image/png": "[encoded data removed]"
          },
          "metadata": {}
        }
      ],
      "source": [
        "pd.crosstab(df.BP,df.Cholesterol).plot(kind=\"bar\",figsize=(15,6),color=['#6929c4','#1192e8'])\n",
        "plt.title('Blood Pressure distribution based on Cholesterol')\n",
        "plt.xlabel('Blood Pressure')\n",
        "plt.xticks(rotation=0)\n",
        "plt.ylabel('Frequency')\n",
        "plt.show()"
      ]
    },
    {
      "cell_type": "markdown",
      "id": "7675cc6e",
      "metadata": {
        "papermill": {
          "duration": 0.067148,
          "end_time": "2022-05-04T02:53:22.680625",
          "exception": false,
          "start_time": "2022-05-04T02:53:22.613477",
          "status": "completed"
        },
        "tags": [],
        "id": "7675cc6e"
      },
      "source": [
        "## 5.7 Sodium to Potassium Distribution based on Gender and Age 🧪👫👴"
      ]
    },
    {
      "cell_type": "code",
      "execution_count": null,
      "id": "9ed580f1",
      "metadata": {
        "execution": {
          "iopub.execute_input": "2022-05-04T02:53:22.861221Z",
          "iopub.status.busy": "2022-05-04T02:53:22.859970Z",
          "iopub.status.idle": "2022-05-04T02:53:23.200939Z",
          "shell.execute_reply": "2022-05-04T02:53:23.200359Z",
          "shell.execute_reply.started": "2022-03-08T01:25:05.776497Z"
        },
        "id": "9ed580f1",
        "outputId": "203d6041-9f4e-4834-86ac-3bd1ab44a6cc",
        "papermill": {
          "duration": 0.441498,
          "end_time": "2022-05-04T02:53:23.201115",
          "exception": false,
          "start_time": "2022-05-04T02:53:22.759617",
          "status": "completed"
        },
        "tags": [],
        "colab": {
          "base_uri": "https://localhost:8080/",
          "height": 285
        }
      },
      "outputs": [
        {
          "output_type": "display_data",
          "data": {
            "text/plain": [
              "<Figure size 432x288 with 1 Axes>"
            ],
            "image/png": "[encoded data removed]"
          },
          "metadata": {}
        }
      ],
      "source": [
        "plt.scatter(x=df.Age[df.Sex=='F'], y=df.Na_to_K[(df.Sex=='F')], c=\"Blue\")\n",
        "plt.scatter(x=df.Age[df.Sex=='M'], y=df.Na_to_K[(df.Sex=='M')], c=\"Orange\")\n",
        "plt.legend([\"Female\", \"Male\"])\n",
        "plt.xlabel(\"Age\")\n",
        "plt.ylabel(\"Na_to_K\")\n",
        "plt.show()"
      ]
    },
    {
      "cell_type": "markdown",
      "source": [
        "# 6.Bivariate analysis"
      ],
      "metadata": {
        "id": "2iD9-siE9xjH"
      },
      "id": "2iD9-siE9xjH"
    },
    {
      "cell_type": "code",
      "source": [
        "df.head()"
      ],
      "metadata": {
        "colab": {
          "base_uri": "https://localhost:8080/",
          "height": 206
        },
        "id": "fOM0A0bz9TPe",
        "outputId": "7cad6614-77ac-49a4-f8e5-bb208497a220"
      },
      "id": "fOM0A0bz9TPe",
      "execution_count": 7,
      "outputs": [
        {
          "output_type": "execute_result",
          "data": {
            "text/plain": [
              "   Age Sex      BP Cholesterol  Na_to_K   Drug\n",
              "0   23   F    HIGH        HIGH   25.355  DrugY\n",
              "1   47   M     LOW        HIGH   13.093  drugC\n",
              "2   47   M     LOW        HIGH   10.114  drugC\n",
              "3   28   F  NORMAL        HIGH    7.798  drugX\n",
              "4   61   F     LOW        HIGH   18.043  DrugY"
            ],
            "text/html": [
              "\n",
              "  <div id=\"df-ba906ce3-d102-4a5f-8386-6689aca69fd1\">\n",
              "    <div class=\"colab-df-container\">\n",
              "      <div>\n",
              "<style scoped>\n",
              "    .dataframe tbody tr th:only-of-type {\n",
              "        vertical-align: middle;\n",
              "    }\n",
              "\n",
              "    .dataframe tbody tr th {\n",
              "        vertical-align: top;\n",
              "    }\n",
              "\n",
              "    .dataframe thead th {\n",
              "        text-align: right;\n",
              "    }\n",
              "</style>\n",
              "<table border=\"1\" class=\"dataframe\">\n",
              "  <thead>\n",
              "    <tr style=\"text-align: right;\">\n",
              "      <th></th>\n",
              "      <th>Age</th>\n",
              "      <th>Sex</th>\n",
              "      <th>BP</th>\n",
              "      <th>Cholesterol</th>\n",
              "      <th>Na_to_K</th>\n",
              "      <th>Drug</th>\n",
              "    </tr>\n",
              "  </thead>\n",
              "  <tbody>\n",
              "    <tr>\n",
              "      <th>0</th>\n",
              "      <td>23</td>\n",
              "      <td>F</td>\n",
              "      <td>HIGH</td>\n",
              "      <td>HIGH</td>\n",
              "      <td>25.355</td>\n",
              "      <td>DrugY</td>\n",
              "    </tr>\n",
              "    <tr>\n",
              "      <th>1</th>\n",
              "      <td>47</td>\n",
              "      <td>M</td>\n",
              "      <td>LOW</td>\n",
              "      <td>HIGH</td>\n",
              "      <td>13.093</td>\n",
              "      <td>drugC</td>\n",
              "    </tr>\n",
              "    <tr>\n",
              "      <th>2</th>\n",
              "      <td>47</td>\n",
              "      <td>M</td>\n",
              "      <td>LOW</td>\n",
              "      <td>HIGH</td>\n",
              "      <td>10.114</td>\n",
              "      <td>drugC</td>\n",
              "    </tr>\n",
              "    <tr>\n",
              "      <th>3</th>\n",
              "      <td>28</td>\n",
              "      <td>F</td>\n",
              "      <td>NORMAL</td>\n",
              "      <td>HIGH</td>\n",
              "      <td>7.798</td>\n",
              "      <td>drugX</td>\n",
              "    </tr>\n",
              "    <tr>\n",
              "      <th>4</th>\n",
              "      <td>61</td>\n",
              "      <td>F</td>\n",
              "      <td>LOW</td>\n",
              "      <td>HIGH</td>\n",
              "      <td>18.043</td>\n",
              "      <td>DrugY</td>\n",
              "    </tr>\n",
              "  </tbody>\n",
              "</table>\n",
              "</div>\n",
              "      <button class=\"colab-df-convert\" onclick=\"convertToInteractive('df-ba906ce3-d102-4a5f-8386-6689aca69fd1')\"\n",
              "              title=\"Convert this dataframe to an interactive table.\"\n",
              "              style=\"display:none;\">\n",
              "        \n",
              "  <svg xmlns=\"http://www.w3.org/2000/svg\" height=\"24px\"viewBox=\"0 0 24 24\"\n",
              "       width=\"24px\">\n",
              "    <path d=\"M0 0h24v24H0V0z\" fill=\"none\"/>\n",
              "    <path d=\"M18.56 5.44l.94 2.06.94-2.06 2.06-.94-2.06-.94-.94-2.06-.94 2.06-2.06.94zm-11 1L8.5 8.5l.94-2.06 2.06-.94-2.06-.94L8.5 2.5l-.94 2.06-2.06.94zm10 10l.94 2.06.94-2.06 2.06-.94-2.06-.94-.94-2.06-.94 2.06-2.06.94z\"/><path d=\"M17.41 7.96l-1.37-1.37c-.4-.4-.92-.59-1.43-.59-.52 0-1.04.2-1.43.59L10.3 9.45l-7.72 7.72c-.78.78-.78 2.05 0 2.83L4 21.41c.39.39.9.59 1.41.59.51 0 1.02-.2 1.41-.59l7.78-7.78 2.81-2.81c.8-.78.8-2.07 0-2.86zM5.41 20L4 18.59l7.72-7.72 1.47 1.35L5.41 20z\"/>\n",
              "  </svg>\n",
              "      </button>\n",
              "      \n",
              "  <style>\n",
              "    .colab-df-container {\n",
              "      display:flex;\n",
              "      flex-wrap:wrap;\n",
              "      gap: 12px;\n",
              "    }\n",
              "\n",
              "    .colab-df-convert {\n",
              "      background-color: #E8F0FE;\n",
              "      border: none;\n",
              "      border-radius: 50%;\n",
              "      cursor: pointer;\n",
              "      display: none;\n",
              "      fill: #1967D2;\n",
              "      height: 32px;\n",
              "      padding: 0 0 0 0;\n",
              "      width: 32px;\n",
              "    }\n",
              "\n",
              "    .colab-df-convert:hover {\n",
              "      background-color: #E2EBFA;\n",
              "      box-shadow: 0px 1px 2px rgba(60, 64, 67, 0.3), 0px 1px 3px 1px rgba(60, 64, 67, 0.15);\n",
              "      fill: #174EA6;\n",
              "    }\n",
              "\n",
              "    [theme=dark] .colab-df-convert {\n",
              "      background-color: #3B4455;\n",
              "      fill: #D2E3FC;\n",
              "    }\n",
              "\n",
              "    [theme=dark] .colab-df-convert:hover {\n",
              "      background-color: #434B5C;\n",
              "      box-shadow: 0px 1px 3px 1px rgba(0, 0, 0, 0.15);\n",
              "      filter: drop-shadow(0px 1px 2px rgba(0, 0, 0, 0.3));\n",
              "      fill: #FFFFFF;\n",
              "    }\n",
              "  </style>\n",
              "\n",
              "      <script>\n",
              "        const buttonEl =\n",
              "          document.querySelector('#df-ba906ce3-d102-4a5f-8386-6689aca69fd1 button.colab-df-convert');\n",
              "        buttonEl.style.display =\n",
              "          google.colab.kernel.accessAllowed ? 'block' : 'none';\n",
              "\n",
              "        async function convertToInteractive(key) {\n",
              "          const element = document.querySelector('#df-ba906ce3-d102-4a5f-8386-6689aca69fd1');\n",
              "          const dataTable =\n",
              "            await google.colab.kernel.invokeFunction('convertToInteractive',\n",
              "                                                     [key], {});\n",
              "          if (!dataTable) return;\n",
              "\n",
              "          const docLinkHtml = 'Like what you see? Visit the ' +\n",
              "            '<a target=\"_blank\" href=https://colab.research.google.com/notebooks/data_table.ipynb>data table notebook</a>'\n",
              "            + ' to learn more about interactive tables.';\n",
              "          element.innerHTML = '';\n",
              "          dataTable['output_type'] = 'display_data';\n",
              "          await google.colab.output.renderOutput(dataTable, element);\n",
              "          const docLink = document.createElement('div');\n",
              "          docLink.innerHTML = docLinkHtml;\n",
              "          element.appendChild(docLink);\n",
              "        }\n",
              "      </script>\n",
              "    </div>\n",
              "  </div>\n",
              "  "
            ]
          },
          "metadata": {},
          "execution_count": 7
        }
      ]
    },
    {
      "cell_type": "code",
      "source": [
        "plt.figure(figsize=(20,5))\n",
        "plt.subplot(131)\n",
        "sns.countplot(df['Drug'],hue=df['BP'])\n",
        "plt.legend(loc='upper right')\n",
        "plt.subplot(132)\n",
        "sns.countplot(df['Drug'],hue=df['Sex'])\n",
        "plt.subplot(133)\n",
        "sns.countplot(df['Drug'],hue=df['Cholesterol'])"
      ],
      "metadata": {
        "colab": {
          "base_uri": "https://localhost:8080/",
          "height": 399
        },
        "id": "YOfRh2xA9Tfk",
        "outputId": "842b06c0-c139-409e-8c24-858a9b8b357b"
      },
      "id": "YOfRh2xA9Tfk",
      "execution_count": 12,
      "outputs": [
        {
          "output_type": "execute_result",
          "data": {
            "text/plain": [
              "<matplotlib.axes._subplots.AxesSubplot at 0x7ff3e362b1d0>"
            ]
          },
          "metadata": {},
          "execution_count": 12
        },
        {
          "output_type": "display_data",
          "data": {
            "text/plain": [
              "<Figure size 1440x360 with 3 Axes>"
            ],
            "image/png": "[encoded data removed]"
          },
          "metadata": {}
        }
      ]
    },
    {
      "cell_type": "code",
      "source": [
        "# Creating a new column Age_. This column shows the categorized age.\n",
        "\n",
        "df['Age_'] = ['15-30' if x<=30 else '30-50' if x>30 and x<=50 else '50-75' for x in df['Age']]\n",
        "df.head()"
      ],
      "metadata": {
        "id": "j2JPQ-wB-SWd"
      },
      "id": "j2JPQ-wB-SWd",
      "execution_count": null,
      "outputs": []
    },
    {
      "cell_type": "code",
      "source": [
        "# Finding the relation between categorized age and drug\n",
        "\n",
        "pd.crosstab(df['Age_'],[df['Drug']])"
      ],
      "metadata": {
        "id": "f8f--Ja0-TF0"
      },
      "id": "f8f--Ja0-TF0",
      "execution_count": null,
      "outputs": []
    },
    {
      "cell_type": "code",
      "source": [
        "# Removing the Age_ column\n",
        "\n",
        "df.drop('Age_',axis=1,inplace=True)\n",
        "df.head()"
      ],
      "metadata": {
        "id": "vTT5hIqW-tZc"
      },
      "id": "vTT5hIqW-tZc",
      "execution_count": null,
      "outputs": []
    },
    {
      "cell_type": "markdown",
      "source": [
        "# 7.Multivariate Analysis"
      ],
      "metadata": {
        "id": "qhwNhnVb-1PF"
      },
      "id": "qhwNhnVb-1PF"
    },
    {
      "cell_type": "code",
      "source": [
        "sns.swarmplot(df['Drug'],df['Na_to_K'],hue=df['BP'])\n",
        "\n",
        "# DrugC is used for low BP patient, DrugY is used on patients having Na_to_K > 15."
      ],
      "metadata": {
        "colab": {
          "base_uri": "https://localhost:8080/",
          "height": 321
        },
        "id": "1czsC1cu-4Cm",
        "outputId": "8aca8908-cf41-4e8c-884d-2d8612b6d968"
      },
      "id": "1czsC1cu-4Cm",
      "execution_count": 13,
      "outputs": [
        {
          "output_type": "execute_result",
          "data": {
            "text/plain": [
              "<matplotlib.axes._subplots.AxesSubplot at 0x7ff3e352a250>"
            ]
          },
          "metadata": {},
          "execution_count": 13
        },
        {
          "output_type": "display_data",
          "data": {
            "text/plain": [
              "<Figure size 432x288 with 1 Axes>"
            ],
            "image/png": "[encoded data removed]"
          },
          "metadata": {}
        }
      ]
    },
    {
      "cell_type": "markdown",
      "source": [
        "# 8.Encoding- Converting categorical to numerical"
      ],
      "metadata": {
        "id": "tJWp3Hkw_DL1"
      },
      "id": "tJWp3Hkw_DL1"
    },
    {
      "cell_type": "code",
      "source": [
        "# Replacing low, normal & high with 0, 1 & 2...\n",
        "\n",
        "df['BP'] = [0 if x=='LOW' else 1 if x=='NORMAL' else 2 for x in df['BP']]"
      ],
      "metadata": {
        "id": "7QhRthfH-7zv"
      },
      "id": "7QhRthfH-7zv",
      "execution_count": 14,
      "outputs": []
    },
    {
      "cell_type": "code",
      "source": [
        "# Replacing normal and high cholesterol with 0 & 1\n",
        "\n",
        "df['Cholesterol'] = [0 if x=='NORMAL' else 1 for x in df['Cholesterol']]"
      ],
      "metadata": {
        "id": "WPUYyx-5_If-"
      },
      "id": "WPUYyx-5_If-",
      "execution_count": 15,
      "outputs": []
    },
    {
      "cell_type": "code",
      "source": [
        "# Replacing female and male with 0 & 1\n",
        "\n",
        "df['Sex'] = [0 if x=='F' else 1 for x in df['Sex']]"
      ],
      "metadata": {
        "id": "rrxlxiav_KSU"
      },
      "id": "rrxlxiav_KSU",
      "execution_count": 16,
      "outputs": []
    },
    {
      "cell_type": "code",
      "source": [
        "df.head()"
      ],
      "metadata": {
        "colab": {
          "base_uri": "https://localhost:8080/",
          "height": 206
        },
        "id": "mtH01C1z_PWM",
        "outputId": "6251c784-58c0-4597-948a-e0e630196198"
      },
      "id": "mtH01C1z_PWM",
      "execution_count": 17,
      "outputs": [
        {
          "output_type": "execute_result",
          "data": {
            "text/plain": [
              "   Age  Sex  BP  Cholesterol  Na_to_K   Drug\n",
              "0   23    0   2            1   25.355  DrugY\n",
              "1   47    1   0            1   13.093  drugC\n",
              "2   47    1   0            1   10.114  drugC\n",
              "3   28    0   1            1    7.798  drugX\n",
              "4   61    0   0            1   18.043  DrugY"
            ],
            "text/html": [
              "\n",
              "  <div id=\"df-440165d8-1c17-46f8-8cbc-f6969ccda8f7\">\n",
              "    <div class=\"colab-df-container\">\n",
              "      <div>\n",
              "<style scoped>\n",
              "    .dataframe tbody tr th:only-of-type {\n",
              "        vertical-align: middle;\n",
              "    }\n",
              "\n",
              "    .dataframe tbody tr th {\n",
              "        vertical-align: top;\n",
              "    }\n",
              "\n",
              "    .dataframe thead th {\n",
              "        text-align: right;\n",
              "    }\n",
              "</style>\n",
              "<table border=\"1\" class=\"dataframe\">\n",
              "  <thead>\n",
              "    <tr style=\"text-align: right;\">\n",
              "      <th></th>\n",
              "      <th>Age</th>\n",
              "      <th>Sex</th>\n",
              "      <th>BP</th>\n",
              "      <th>Cholesterol</th>\n",
              "      <th>Na_to_K</th>\n",
              "      <th>Drug</th>\n",
              "    </tr>\n",
              "  </thead>\n",
              "  <tbody>\n",
              "    <tr>\n",
              "      <th>0</th>\n",
              "      <td>23</td>\n",
              "      <td>0</td>\n",
              "      <td>2</td>\n",
              "      <td>1</td>\n",
              "      <td>25.355</td>\n",
              "      <td>DrugY</td>\n",
              "    </tr>\n",
              "    <tr>\n",
              "      <th>1</th>\n",
              "      <td>47</td>\n",
              "      <td>1</td>\n",
              "      <td>0</td>\n",
              "      <td>1</td>\n",
              "      <td>13.093</td>\n",
              "      <td>drugC</td>\n",
              "    </tr>\n",
              "    <tr>\n",
              "      <th>2</th>\n",
              "      <td>47</td>\n",
              "      <td>1</td>\n",
              "      <td>0</td>\n",
              "      <td>1</td>\n",
              "      <td>10.114</td>\n",
              "      <td>drugC</td>\n",
              "    </tr>\n",
              "    <tr>\n",
              "      <th>3</th>\n",
              "      <td>28</td>\n",
              "      <td>0</td>\n",
              "      <td>1</td>\n",
              "      <td>1</td>\n",
              "      <td>7.798</td>\n",
              "      <td>drugX</td>\n",
              "    </tr>\n",
              "    <tr>\n",
              "      <th>4</th>\n",
              "      <td>61</td>\n",
              "      <td>0</td>\n",
              "      <td>0</td>\n",
              "      <td>1</td>\n",
              "      <td>18.043</td>\n",
              "      <td>DrugY</td>\n",
              "    </tr>\n",
              "  </tbody>\n",
              "</table>\n",
              "</div>\n",
              "      <button class=\"colab-df-convert\" onclick=\"convertToInteractive('df-440165d8-1c17-46f8-8cbc-f6969ccda8f7')\"\n",
              "              title=\"Convert this dataframe to an interactive table.\"\n",
              "              style=\"display:none;\">\n",
              "        \n",
              "  <svg xmlns=\"http://www.w3.org/2000/svg\" height=\"24px\"viewBox=\"0 0 24 24\"\n",
              "       width=\"24px\">\n",
              "    <path d=\"M0 0h24v24H0V0z\" fill=\"none\"/>\n",
              "    <path d=\"M18.56 5.44l.94 2.06.94-2.06 2.06-.94-2.06-.94-.94-2.06-.94 2.06-2.06.94zm-11 1L8.5 8.5l.94-2.06 2.06-.94-2.06-.94L8.5 2.5l-.94 2.06-2.06.94zm10 10l.94 2.06.94-2.06 2.06-.94-2.06-.94-.94-2.06-.94 2.06-2.06.94z\"/><path d=\"M17.41 7.96l-1.37-1.37c-.4-.4-.92-.59-1.43-.59-.52 0-1.04.2-1.43.59L10.3 9.45l-7.72 7.72c-.78.78-.78 2.05 0 2.83L4 21.41c.39.39.9.59 1.41.59.51 0 1.02-.2 1.41-.59l7.78-7.78 2.81-2.81c.8-.78.8-2.07 0-2.86zM5.41 20L4 18.59l7.72-7.72 1.47 1.35L5.41 20z\"/>\n",
              "  </svg>\n",
              "      </button>\n",
              "      \n",
              "  <style>\n",
              "    .colab-df-container {\n",
              "      display:flex;\n",
              "      flex-wrap:wrap;\n",
              "      gap: 12px;\n",
              "    }\n",
              "\n",
              "    .colab-df-convert {\n",
              "      background-color: #E8F0FE;\n",
              "      border: none;\n",
              "      border-radius: 50%;\n",
              "      cursor: pointer;\n",
              "      display: none;\n",
              "      fill: #1967D2;\n",
              "      height: 32px;\n",
              "      padding: 0 0 0 0;\n",
              "      width: 32px;\n",
              "    }\n",
              "\n",
              "    .colab-df-convert:hover {\n",
              "      background-color: #E2EBFA;\n",
              "      box-shadow: 0px 1px 2px rgba(60, 64, 67, 0.3), 0px 1px 3px 1px rgba(60, 64, 67, 0.15);\n",
              "      fill: #174EA6;\n",
              "    }\n",
              "\n",
              "    [theme=dark] .colab-df-convert {\n",
              "      background-color: #3B4455;\n",
              "      fill: #D2E3FC;\n",
              "    }\n",
              "\n",
              "    [theme=dark] .colab-df-convert:hover {\n",
              "      background-color: #434B5C;\n",
              "      box-shadow: 0px 1px 3px 1px rgba(0, 0, 0, 0.15);\n",
              "      filter: drop-shadow(0px 1px 2px rgba(0, 0, 0, 0.3));\n",
              "      fill: #FFFFFF;\n",
              "    }\n",
              "  </style>\n",
              "\n",
              "      <script>\n",
              "        const buttonEl =\n",
              "          document.querySelector('#df-440165d8-1c17-46f8-8cbc-f6969ccda8f7 button.colab-df-convert');\n",
              "        buttonEl.style.display =\n",
              "          google.colab.kernel.accessAllowed ? 'block' : 'none';\n",
              "\n",
              "        async function convertToInteractive(key) {\n",
              "          const element = document.querySelector('#df-440165d8-1c17-46f8-8cbc-f6969ccda8f7');\n",
              "          const dataTable =\n",
              "            await google.colab.kernel.invokeFunction('convertToInteractive',\n",
              "                                                     [key], {});\n",
              "          if (!dataTable) return;\n",
              "\n",
              "          const docLinkHtml = 'Like what you see? Visit the ' +\n",
              "            '<a target=\"_blank\" href=https://colab.research.google.com/notebooks/data_table.ipynb>data table notebook</a>'\n",
              "            + ' to learn more about interactive tables.';\n",
              "          element.innerHTML = '';\n",
              "          dataTable['output_type'] = 'display_data';\n",
              "          await google.colab.output.renderOutput(dataTable, element);\n",
              "          const docLink = document.createElement('div');\n",
              "          docLink.innerHTML = docLinkHtml;\n",
              "          element.appendChild(docLink);\n",
              "        }\n",
              "      </script>\n",
              "    </div>\n",
              "  </div>\n",
              "  "
            ]
          },
          "metadata": {},
          "execution_count": 17
        }
      ]
    },
    {
      "cell_type": "code",
      "source": [
        "df['Drug'].value_counts()"
      ],
      "metadata": {
        "colab": {
          "base_uri": "https://localhost:8080/"
        },
        "id": "2j8bznFE_RCd",
        "outputId": "83818447-43ad-4f58-e50a-1a351da31a66"
      },
      "id": "2j8bznFE_RCd",
      "execution_count": 18,
      "outputs": [
        {
          "output_type": "execute_result",
          "data": {
            "text/plain": [
              "DrugY    91\n",
              "drugX    54\n",
              "drugA    23\n",
              "drugC    16\n",
              "drugB    16\n",
              "Name: Drug, dtype: int64"
            ]
          },
          "metadata": {},
          "execution_count": 18
        }
      ]
    },
    {
      "cell_type": "code",
      "source": [
        "x = df.drop('Drug',axis=1)\n",
        "x.head()"
      ],
      "metadata": {
        "colab": {
          "base_uri": "https://localhost:8080/",
          "height": 206
        },
        "id": "I-fMcPOm_SqF",
        "outputId": "0f6ca94e-2e13-4ff8-d780-516e0fe32df0"
      },
      "id": "I-fMcPOm_SqF",
      "execution_count": 19,
      "outputs": [
        {
          "output_type": "execute_result",
          "data": {
            "text/plain": [
              "   Age  Sex  BP  Cholesterol  Na_to_K\n",
              "0   23    0   2            1   25.355\n",
              "1   47    1   0            1   13.093\n",
              "2   47    1   0            1   10.114\n",
              "3   28    0   1            1    7.798\n",
              "4   61    0   0            1   18.043"
            ],
            "text/html": [
              "\n",
              "  <div id=\"df-f46929b8-d819-4d23-8ac9-ad7e173cd122\">\n",
              "    <div class=\"colab-df-container\">\n",
              "      <div>\n",
              "<style scoped>\n",
              "    .dataframe tbody tr th:only-of-type {\n",
              "        vertical-align: middle;\n",
              "    }\n",
              "\n",
              "    .dataframe tbody tr th {\n",
              "        vertical-align: top;\n",
              "    }\n",
              "\n",
              "    .dataframe thead th {\n",
              "        text-align: right;\n",
              "    }\n",
              "</style>\n",
              "<table border=\"1\" class=\"dataframe\">\n",
              "  <thead>\n",
              "    <tr style=\"text-align: right;\">\n",
              "      <th></th>\n",
              "      <th>Age</th>\n",
              "      <th>Sex</th>\n",
              "      <th>BP</th>\n",
              "      <th>Cholesterol</th>\n",
              "      <th>Na_to_K</th>\n",
              "    </tr>\n",
              "  </thead>\n",
              "  <tbody>\n",
              "    <tr>\n",
              "      <th>0</th>\n",
              "      <td>23</td>\n",
              "      <td>0</td>\n",
              "      <td>2</td>\n",
              "      <td>1</td>\n",
              "      <td>25.355</td>\n",
              "    </tr>\n",
              "    <tr>\n",
              "      <th>1</th>\n",
              "      <td>47</td>\n",
              "      <td>1</td>\n",
              "      <td>0</td>\n",
              "      <td>1</td>\n",
              "      <td>13.093</td>\n",
              "    </tr>\n",
              "    <tr>\n",
              "      <th>2</th>\n",
              "      <td>47</td>\n",
              "      <td>1</td>\n",
              "      <td>0</td>\n",
              "      <td>1</td>\n",
              "      <td>10.114</td>\n",
              "    </tr>\n",
              "    <tr>\n",
              "      <th>3</th>\n",
              "      <td>28</td>\n",
              "      <td>0</td>\n",
              "      <td>1</td>\n",
              "      <td>1</td>\n",
              "      <td>7.798</td>\n",
              "    </tr>\n",
              "    <tr>\n",
              "      <th>4</th>\n",
              "      <td>61</td>\n",
              "      <td>0</td>\n",
              "      <td>0</td>\n",
              "      <td>1</td>\n",
              "      <td>18.043</td>\n",
              "    </tr>\n",
              "  </tbody>\n",
              "</table>\n",
              "</div>\n",
              "      <button class=\"colab-df-convert\" onclick=\"convertToInteractive('df-f46929b8-d819-4d23-8ac9-ad7e173cd122')\"\n",
              "              title=\"Convert this dataframe to an interactive table.\"\n",
              "              style=\"display:none;\">\n",
              "        \n",
              "  <svg xmlns=\"http://www.w3.org/2000/svg\" height=\"24px\"viewBox=\"0 0 24 24\"\n",
              "       width=\"24px\">\n",
              "    <path d=\"M0 0h24v24H0V0z\" fill=\"none\"/>\n",
              "    <path d=\"M18.56 5.44l.94 2.06.94-2.06 2.06-.94-2.06-.94-.94-2.06-.94 2.06-2.06.94zm-11 1L8.5 8.5l.94-2.06 2.06-.94-2.06-.94L8.5 2.5l-.94 2.06-2.06.94zm10 10l.94 2.06.94-2.06 2.06-.94-2.06-.94-.94-2.06-.94 2.06-2.06.94z\"/><path d=\"M17.41 7.96l-1.37-1.37c-.4-.4-.92-.59-1.43-.59-.52 0-1.04.2-1.43.59L10.3 9.45l-7.72 7.72c-.78.78-.78 2.05 0 2.83L4 21.41c.39.39.9.59 1.41.59.51 0 1.02-.2 1.41-.59l7.78-7.78 2.81-2.81c.8-.78.8-2.07 0-2.86zM5.41 20L4 18.59l7.72-7.72 1.47 1.35L5.41 20z\"/>\n",
              "  </svg>\n",
              "      </button>\n",
              "      \n",
              "  <style>\n",
              "    .colab-df-container {\n",
              "      display:flex;\n",
              "      flex-wrap:wrap;\n",
              "      gap: 12px;\n",
              "    }\n",
              "\n",
              "    .colab-df-convert {\n",
              "      background-color: #E8F0FE;\n",
              "      border: none;\n",
              "      border-radius: 50%;\n",
              "      cursor: pointer;\n",
              "      display: none;\n",
              "      fill: #1967D2;\n",
              "      height: 32px;\n",
              "      padding: 0 0 0 0;\n",
              "      width: 32px;\n",
              "    }\n",
              "\n",
              "    .colab-df-convert:hover {\n",
              "      background-color: #E2EBFA;\n",
              "      box-shadow: 0px 1px 2px rgba(60, 64, 67, 0.3), 0px 1px 3px 1px rgba(60, 64, 67, 0.15);\n",
              "      fill: #174EA6;\n",
              "    }\n",
              "\n",
              "    [theme=dark] .colab-df-convert {\n",
              "      background-color: #3B4455;\n",
              "      fill: #D2E3FC;\n",
              "    }\n",
              "\n",
              "    [theme=dark] .colab-df-convert:hover {\n",
              "      background-color: #434B5C;\n",
              "      box-shadow: 0px 1px 3px 1px rgba(0, 0, 0, 0.15);\n",
              "      filter: drop-shadow(0px 1px 2px rgba(0, 0, 0, 0.3));\n",
              "      fill: #FFFFFF;\n",
              "    }\n",
              "  </style>\n",
              "\n",
              "      <script>\n",
              "        const buttonEl =\n",
              "          document.querySelector('#df-f46929b8-d819-4d23-8ac9-ad7e173cd122 button.colab-df-convert');\n",
              "        buttonEl.style.display =\n",
              "          google.colab.kernel.accessAllowed ? 'block' : 'none';\n",
              "\n",
              "        async function convertToInteractive(key) {\n",
              "          const element = document.querySelector('#df-f46929b8-d819-4d23-8ac9-ad7e173cd122');\n",
              "          const dataTable =\n",
              "            await google.colab.kernel.invokeFunction('convertToInteractive',\n",
              "                                                     [key], {});\n",
              "          if (!dataTable) return;\n",
              "\n",
              "          const docLinkHtml = 'Like what you see? Visit the ' +\n",
              "            '<a target=\"_blank\" href=https://colab.research.google.com/notebooks/data_table.ipynb>data table notebook</a>'\n",
              "            + ' to learn more about interactive tables.';\n",
              "          element.innerHTML = '';\n",
              "          dataTable['output_type'] = 'display_data';\n",
              "          await google.colab.output.renderOutput(dataTable, element);\n",
              "          const docLink = document.createElement('div');\n",
              "          docLink.innerHTML = docLinkHtml;\n",
              "          element.appendChild(docLink);\n",
              "        }\n",
              "      </script>\n",
              "    </div>\n",
              "  </div>\n",
              "  "
            ]
          },
          "metadata": {},
          "execution_count": 19
        }
      ]
    },
    {
      "cell_type": "code",
      "source": [
        "y = df['Drug']\n",
        "y.head()"
      ],
      "metadata": {
        "colab": {
          "base_uri": "https://localhost:8080/"
        },
        "id": "flpGTKP8_UyE",
        "outputId": "29f51adf-a9d2-42ec-9799-124cc5435a9e"
      },
      "id": "flpGTKP8_UyE",
      "execution_count": 20,
      "outputs": [
        {
          "output_type": "execute_result",
          "data": {
            "text/plain": [
              "0    DrugY\n",
              "1    drugC\n",
              "2    drugC\n",
              "3    drugX\n",
              "4    DrugY\n",
              "Name: Drug, dtype: object"
            ]
          },
          "metadata": {},
          "execution_count": 20
        }
      ]
    },
    {
      "cell_type": "code",
      "source": [
        "x_train, x_test, y_train, y_test = train_test_split(x, y, test_size=0.3, random_state=10)"
      ],
      "metadata": {
        "id": "ZH81Eulf_Wm2"
      },
      "id": "ZH81Eulf_Wm2",
      "execution_count": 21,
      "outputs": []
    },
    {
      "cell_type": "code",
      "source": [
        "print('Shape of x_train {}'.format(x_train.shape))\n",
        "print('Shape of y_train {}'.format(y_train.shape))\n",
        "print('Shape of x_test {}'.format(x_test.shape))\n",
        "print('Shape of y_test {}'.format(y_test.shape))"
      ],
      "metadata": {
        "colab": {
          "base_uri": "https://localhost:8080/"
        },
        "id": "JmQd_iZt_aYd",
        "outputId": "162d54fc-f4f5-44b3-b72b-cb25b077bdbc"
      },
      "id": "JmQd_iZt_aYd",
      "execution_count": 22,
      "outputs": [
        {
          "output_type": "stream",
          "name": "stdout",
          "text": [
            "Shape of x_train (140, 5)\n",
            "Shape of y_train (140,)\n",
            "Shape of x_test (60, 5)\n",
            "Shape of y_test (60,)\n"
          ]
        }
      ]
    },
    {
      "cell_type": "markdown",
      "id": "4a2073da",
      "metadata": {
        "id": "4a2073da",
        "papermill": {
          "duration": 0.072234,
          "end_time": "2022-05-04T02:53:23.346483",
          "exception": false,
          "start_time": "2022-05-04T02:53:23.274249",
          "status": "completed"
        },
        "tags": []
      },
      "source": [
        "#9. Data Preparation ⚙\n",
        "👉 This section will prepare the dataset before building the machine learning models."
      ]
    },
    {
      "cell_type": "markdown",
      "id": "ea6668c3",
      "metadata": {
        "id": "ea6668c3",
        "papermill": {
          "duration": 0.069097,
          "end_time": "2022-05-04T02:53:23.486753",
          "exception": false,
          "start_time": "2022-05-04T02:53:23.417656",
          "status": "completed"
        },
        "tags": []
      },
      "source": [
        "## 9.1 Data Bining🚮"
      ]
    },
    {
      "cell_type": "markdown",
      "id": "dcaed989",
      "metadata": {
        "id": "dcaed989",
        "papermill": {
          "duration": 0.071107,
          "end_time": "2022-05-04T02:53:23.627940",
          "exception": false,
          "start_time": "2022-05-04T02:53:23.556833",
          "status": "completed"
        },
        "tags": []
      },
      "source": [
        "### 9.1.1 Age 👴\n",
        "👉 The age will be divided into **7 age categories**:\n",
        "*  Below 20 y.o.\n",
        "*  20 - 29 y.o.\n",
        "*  30 - 39 y.o.\n",
        "*  40 - 49 y.o.\n",
        "*  50 - 59 y.o.\n",
        "*  60 - 69 y.o.\n",
        "*  Above 70."
      ]
    },
    {
      "cell_type": "code",
      "execution_count": 23,
      "id": "4b44dea1",
      "metadata": {
        "execution": {
          "iopub.execute_input": "2022-05-04T02:53:23.774584Z",
          "iopub.status.busy": "2022-05-04T02:53:23.767281Z",
          "iopub.status.idle": "2022-05-04T02:53:23.776406Z",
          "shell.execute_reply": "2022-05-04T02:53:23.776852Z",
          "shell.execute_reply.started": "2022-03-08T01:25:06.125239Z"
        },
        "id": "4b44dea1",
        "papermill": {
          "duration": 0.080917,
          "end_time": "2022-05-04T02:53:23.777051",
          "exception": false,
          "start_time": "2022-05-04T02:53:23.696134",
          "status": "completed"
        },
        "tags": []
      },
      "outputs": [],
      "source": [
        "bin_age = [0, 19, 29, 39, 49, 59, 69, 80]\n",
        "category_age = ['<20s', '20s', '30s', '40s', '50s', '60s', '>60s']\n",
        "df['Age_binned'] = pd.cut(df['Age'], bins=bin_age, labels=category_age)\n",
        "df = df.drop(['Age'], axis = 1)"
      ]
    },
    {
      "cell_type": "markdown",
      "id": "ed6970c9",
      "metadata": {
        "id": "ed6970c9",
        "papermill": {
          "duration": 0.069649,
          "end_time": "2022-05-04T02:53:23.915013",
          "exception": false,
          "start_time": "2022-05-04T02:53:23.845364",
          "status": "completed"
        },
        "tags": []
      },
      "source": [
        "### 9.1.2 Na_to_K 🧪\n",
        "👉 The chemical ratio will be divided into **4 categories**:\n",
        "*  Below 10.\n",
        "*  10 - 20.\n",
        "*  20 - 30.\n",
        "*  Above 30."
      ]
    },
    {
      "cell_type": "code",
      "execution_count": 24,
      "id": "fb471fb8",
      "metadata": {
        "execution": {
          "iopub.execute_input": "2022-05-04T02:53:24.064225Z",
          "iopub.status.busy": "2022-05-04T02:53:24.057040Z",
          "iopub.status.idle": "2022-05-04T02:53:24.066950Z",
          "shell.execute_reply": "2022-05-04T02:53:24.066286Z",
          "shell.execute_reply.started": "2022-03-08T01:25:06.13646Z"
        },
        "id": "fb471fb8",
        "papermill": {
          "duration": 0.082757,
          "end_time": "2022-05-04T02:53:24.067126",
          "exception": false,
          "start_time": "2022-05-04T02:53:23.984369",
          "status": "completed"
        },
        "tags": []
      },
      "outputs": [],
      "source": [
        "bin_NatoK = [0, 9, 19, 29, 50]\n",
        "category_NatoK = ['<10', '10-20', '20-30', '>30']\n",
        "df['Na_to_K_binned'] = pd.cut(df['Na_to_K'], bins=bin_NatoK, labels=category_NatoK)\n",
        "df = df.drop(['Na_to_K'], axis = 1)"
      ]
    },
    {
      "cell_type": "markdown",
      "id": "6acd0bc0",
      "metadata": {
        "id": "6acd0bc0",
        "papermill": {
          "duration": 0.068402,
          "end_time": "2022-05-04T02:53:24.204559",
          "exception": false,
          "start_time": "2022-05-04T02:53:24.136157",
          "status": "completed"
        },
        "tags": []
      },
      "source": [
        "## 9.2 Splitting the dataset 🪓\n",
        "👉 The dataset will be split into **70% training and 30% testing**."
      ]
    },
    {
      "cell_type": "code",
      "execution_count": 25,
      "id": "26cb08bb",
      "metadata": {
        "execution": {
          "iopub.execute_input": "2022-05-04T02:53:24.345430Z",
          "iopub.status.busy": "2022-05-04T02:53:24.344798Z",
          "iopub.status.idle": "2022-05-04T02:53:24.504186Z",
          "shell.execute_reply": "2022-05-04T02:53:24.503420Z",
          "shell.execute_reply.started": "2022-03-08T01:25:06.154675Z"
        },
        "id": "26cb08bb",
        "papermill": {
          "duration": 0.231244,
          "end_time": "2022-05-04T02:53:24.504359",
          "exception": false,
          "start_time": "2022-05-04T02:53:24.273115",
          "status": "completed"
        },
        "tags": []
      },
      "outputs": [],
      "source": [
        "from sklearn.metrics import confusion_matrix\n",
        "from sklearn.metrics import classification_report"
      ]
    },
    {
      "cell_type": "code",
      "execution_count": 26,
      "id": "c091b1b7",
      "metadata": {
        "execution": {
          "iopub.execute_input": "2022-05-04T02:53:24.647052Z",
          "iopub.status.busy": "2022-05-04T02:53:24.646375Z",
          "iopub.status.idle": "2022-05-04T02:53:24.667063Z",
          "shell.execute_reply": "2022-05-04T02:53:24.667556Z",
          "shell.execute_reply.started": "2022-03-08T01:25:06.328803Z"
        },
        "id": "c091b1b7",
        "papermill": {
          "duration": 0.095304,
          "end_time": "2022-05-04T02:53:24.667742",
          "exception": false,
          "start_time": "2022-05-04T02:53:24.572438",
          "status": "completed"
        },
        "tags": []
      },
      "outputs": [],
      "source": [
        "X = df.drop([\"Drug\"], axis=1)\n",
        "y = df[\"Drug\"]\n",
        "\n",
        "from sklearn.model_selection import train_test_split\n",
        "X_train, X_test, y_train, y_test = train_test_split(X, y, test_size = 0.3, random_state = 0)"
      ]
    },
    {
      "cell_type": "markdown",
      "id": "fa2f50fb",
      "metadata": {
        "id": "fa2f50fb",
        "papermill": {
          "duration": 0.071246,
          "end_time": "2022-05-04T02:53:24.809880",
          "exception": false,
          "start_time": "2022-05-04T02:53:24.738634",
          "status": "completed"
        },
        "tags": []
      },
      "source": [
        "## 9.3 Feature Engineering 🔧\n",
        "👉 The FE method that used is **one-hot encoding**, which is **transforming categorical variables into a form that could be provided to ML algorithms to do a better prediction**."
      ]
    },
    {
      "cell_type": "code",
      "execution_count": 27,
      "id": "009162ef",
      "metadata": {
        "execution": {
          "iopub.execute_input": "2022-05-04T02:53:24.953841Z",
          "iopub.status.busy": "2022-05-04T02:53:24.952857Z",
          "iopub.status.idle": "2022-05-04T02:53:24.968415Z",
          "shell.execute_reply": "2022-05-04T02:53:24.968934Z",
          "shell.execute_reply.started": "2022-03-08T01:25:06.355628Z"
        },
        "id": "009162ef",
        "papermill": {
          "duration": 0.089853,
          "end_time": "2022-05-04T02:53:24.969119",
          "exception": false,
          "start_time": "2022-05-04T02:53:24.879266",
          "status": "completed"
        },
        "tags": []
      },
      "outputs": [],
      "source": [
        "X_train = pd.get_dummies(X_train)\n",
        "X_test = pd.get_dummies(X_test)"
      ]
    },
    {
      "cell_type": "code",
      "execution_count": 28,
      "id": "bab5b853",
      "metadata": {
        "execution": {
          "iopub.execute_input": "2022-05-04T02:53:25.111357Z",
          "iopub.status.busy": "2022-05-04T02:53:25.110387Z",
          "iopub.status.idle": "2022-05-04T02:53:25.125401Z",
          "shell.execute_reply": "2022-05-04T02:53:25.125961Z",
          "shell.execute_reply.started": "2022-03-08T01:25:06.375644Z"
        },
        "papermill": {
          "duration": 0.088449,
          "end_time": "2022-05-04T02:53:25.126150",
          "exception": false,
          "start_time": "2022-05-04T02:53:25.037701",
          "status": "completed"
        },
        "tags": [],
        "colab": {
          "base_uri": "https://localhost:8080/",
          "height": 287
        },
        "id": "bab5b853",
        "outputId": "698c0c9e-6bf8-4add-84e2-52ec202545a5"
      },
      "outputs": [
        {
          "output_type": "execute_result",
          "data": {
            "text/plain": [
              "     Sex  BP  Cholesterol  Age_binned_<20s  Age_binned_20s  Age_binned_30s  \\\n",
              "131    1   0            0                0               0               0   \n",
              "96     0   0            1                0               0               0   \n",
              "181    0   1            1                0               0               0   \n",
              "19     0   2            0                0               0               1   \n",
              "153    0   0            0                0               0               0   \n",
              "\n",
              "     Age_binned_40s  Age_binned_50s  Age_binned_60s  Age_binned_>60s  \\\n",
              "131               0               1               0                0   \n",
              "96                0               1               0                0   \n",
              "181               0               1               0                0   \n",
              "19                0               0               0                0   \n",
              "153               0               0               0                1   \n",
              "\n",
              "     Na_to_K_binned_<10  Na_to_K_binned_10-20  Na_to_K_binned_20-30  \\\n",
              "131                   0                     0                     0   \n",
              "96                    0                     0                     0   \n",
              "181                   0                     1                     0   \n",
              "19                    0                     0                     1   \n",
              "153                   0                     1                     0   \n",
              "\n",
              "     Na_to_K_binned_>30  \n",
              "131                   1  \n",
              "96                    1  \n",
              "181                   0  \n",
              "19                    0  \n",
              "153                   0  "
            ],
            "text/html": [
              "\n",
              "  <div id=\"df-3a825136-4782-4ab3-a0aa-98decd188a8a\">\n",
              "    <div class=\"colab-df-container\">\n",
              "      <div>\n",
              "<style scoped>\n",
              "    .dataframe tbody tr th:only-of-type {\n",
              "        vertical-align: middle;\n",
              "    }\n",
              "\n",
              "    .dataframe tbody tr th {\n",
              "        vertical-align: top;\n",
              "    }\n",
              "\n",
              "    .dataframe thead th {\n",
              "        text-align: right;\n",
              "    }\n",
              "</style>\n",
              "<table border=\"1\" class=\"dataframe\">\n",
              "  <thead>\n",
              "    <tr style=\"text-align: right;\">\n",
              "      <th></th>\n",
              "      <th>Sex</th>\n",
              "      <th>BP</th>\n",
              "      <th>Cholesterol</th>\n",
              "      <th>Age_binned_&lt;20s</th>\n",
              "      <th>Age_binned_20s</th>\n",
              "      <th>Age_binned_30s</th>\n",
              "      <th>Age_binned_40s</th>\n",
              "      <th>Age_binned_50s</th>\n",
              "      <th>Age_binned_60s</th>\n",
              "      <th>Age_binned_&gt;60s</th>\n",
              "      <th>Na_to_K_binned_&lt;10</th>\n",
              "      <th>Na_to_K_binned_10-20</th>\n",
              "      <th>Na_to_K_binned_20-30</th>\n",
              "      <th>Na_to_K_binned_&gt;30</th>\n",
              "    </tr>\n",
              "  </thead>\n",
              "  <tbody>\n",
              "    <tr>\n",
              "      <th>131</th>\n",
              "      <td>1</td>\n",
              "      <td>0</td>\n",
              "      <td>0</td>\n",
              "      <td>0</td>\n",
              "      <td>0</td>\n",
              "      <td>0</td>\n",
              "      <td>0</td>\n",
              "      <td>1</td>\n",
              "      <td>0</td>\n",
              "      <td>0</td>\n",
              "      <td>0</td>\n",
              "      <td>0</td>\n",
              "      <td>0</td>\n",
              "      <td>1</td>\n",
              "    </tr>\n",
              "    <tr>\n",
              "      <th>96</th>\n",
              "      <td>0</td>\n",
              "      <td>0</td>\n",
              "      <td>1</td>\n",
              "      <td>0</td>\n",
              "      <td>0</td>\n",
              "      <td>0</td>\n",
              "      <td>0</td>\n",
              "      <td>1</td>\n",
              "      <td>0</td>\n",
              "      <td>0</td>\n",
              "      <td>0</td>\n",
              "      <td>0</td>\n",
              "      <td>0</td>\n",
              "      <td>1</td>\n",
              "    </tr>\n",
              "    <tr>\n",
              "      <th>181</th>\n",
              "      <td>0</td>\n",
              "      <td>1</td>\n",
              "      <td>1</td>\n",
              "      <td>0</td>\n",
              "      <td>0</td>\n",
              "      <td>0</td>\n",
              "      <td>0</td>\n",
              "      <td>1</td>\n",
              "      <td>0</td>\n",
              "      <td>0</td>\n",
              "      <td>0</td>\n",
              "      <td>1</td>\n",
              "      <td>0</td>\n",
              "      <td>0</td>\n",
              "    </tr>\n",
              "    <tr>\n",
              "      <th>19</th>\n",
              "      <td>0</td>\n",
              "      <td>2</td>\n",
              "      <td>0</td>\n",
              "      <td>0</td>\n",
              "      <td>0</td>\n",
              "      <td>1</td>\n",
              "      <td>0</td>\n",
              "      <td>0</td>\n",
              "      <td>0</td>\n",
              "      <td>0</td>\n",
              "      <td>0</td>\n",
              "      <td>0</td>\n",
              "      <td>1</td>\n",
              "      <td>0</td>\n",
              "    </tr>\n",
              "    <tr>\n",
              "      <th>153</th>\n",
              "      <td>0</td>\n",
              "      <td>0</td>\n",
              "      <td>0</td>\n",
              "      <td>0</td>\n",
              "      <td>0</td>\n",
              "      <td>0</td>\n",
              "      <td>0</td>\n",
              "      <td>0</td>\n",
              "      <td>0</td>\n",
              "      <td>1</td>\n",
              "      <td>0</td>\n",
              "      <td>1</td>\n",
              "      <td>0</td>\n",
              "      <td>0</td>\n",
              "    </tr>\n",
              "  </tbody>\n",
              "</table>\n",
              "</div>\n",
              "      <button class=\"colab-df-convert\" onclick=\"convertToInteractive('df-3a825136-4782-4ab3-a0aa-98decd188a8a')\"\n",
              "              title=\"Convert this dataframe to an interactive table.\"\n",
              "              style=\"display:none;\">\n",
              "        \n",
              "  <svg xmlns=\"http://www.w3.org/2000/svg\" height=\"24px\"viewBox=\"0 0 24 24\"\n",
              "       width=\"24px\">\n",
              "    <path d=\"M0 0h24v24H0V0z\" fill=\"none\"/>\n",
              "    <path d=\"M18.56 5.44l.94 2.06.94-2.06 2.06-.94-2.06-.94-.94-2.06-.94 2.06-2.06.94zm-11 1L8.5 8.5l.94-2.06 2.06-.94-2.06-.94L8.5 2.5l-.94 2.06-2.06.94zm10 10l.94 2.06.94-2.06 2.06-.94-2.06-.94-.94-2.06-.94 2.06-2.06.94z\"/><path d=\"M17.41 7.96l-1.37-1.37c-.4-.4-.92-.59-1.43-.59-.52 0-1.04.2-1.43.59L10.3 9.45l-7.72 7.72c-.78.78-.78 2.05 0 2.83L4 21.41c.39.39.9.59 1.41.59.51 0 1.02-.2 1.41-.59l7.78-7.78 2.81-2.81c.8-.78.8-2.07 0-2.86zM5.41 20L4 18.59l7.72-7.72 1.47 1.35L5.41 20z\"/>\n",
              "  </svg>\n",
              "      </button>\n",
              "      \n",
              "  <style>\n",
              "    .colab-df-container {\n",
              "      display:flex;\n",
              "      flex-wrap:wrap;\n",
              "      gap: 12px;\n",
              "    }\n",
              "\n",
              "    .colab-df-convert {\n",
              "      background-color: #E8F0FE;\n",
              "      border: none;\n",
              "      border-radius: 50%;\n",
              "      cursor: pointer;\n",
              "      display: none;\n",
              "      fill: #1967D2;\n",
              "      height: 32px;\n",
              "      padding: 0 0 0 0;\n",
              "      width: 32px;\n",
              "    }\n",
              "\n",
              "    .colab-df-convert:hover {\n",
              "      background-color: #E2EBFA;\n",
              "      box-shadow: 0px 1px 2px rgba(60, 64, 67, 0.3), 0px 1px 3px 1px rgba(60, 64, 67, 0.15);\n",
              "      fill: #174EA6;\n",
              "    }\n",
              "\n",
              "    [theme=dark] .colab-df-convert {\n",
              "      background-color: #3B4455;\n",
              "      fill: #D2E3FC;\n",
              "    }\n",
              "\n",
              "    [theme=dark] .colab-df-convert:hover {\n",
              "      background-color: #434B5C;\n",
              "      box-shadow: 0px 1px 3px 1px rgba(0, 0, 0, 0.15);\n",
              "      filter: drop-shadow(0px 1px 2px rgba(0, 0, 0, 0.3));\n",
              "      fill: #FFFFFF;\n",
              "    }\n",
              "  </style>\n",
              "\n",
              "      <script>\n",
              "        const buttonEl =\n",
              "          document.querySelector('#df-3a825136-4782-4ab3-a0aa-98decd188a8a button.colab-df-convert');\n",
              "        buttonEl.style.display =\n",
              "          google.colab.kernel.accessAllowed ? 'block' : 'none';\n",
              "\n",
              "        async function convertToInteractive(key) {\n",
              "          const element = document.querySelector('#df-3a825136-4782-4ab3-a0aa-98decd188a8a');\n",
              "          const dataTable =\n",
              "            await google.colab.kernel.invokeFunction('convertToInteractive',\n",
              "                                                     [key], {});\n",
              "          if (!dataTable) return;\n",
              "\n",
              "          const docLinkHtml = 'Like what you see? Visit the ' +\n",
              "            '<a target=\"_blank\" href=https://colab.research.google.com/notebooks/data_table.ipynb>data table notebook</a>'\n",
              "            + ' to learn more about interactive tables.';\n",
              "          element.innerHTML = '';\n",
              "          dataTable['output_type'] = 'display_data';\n",
              "          await google.colab.output.renderOutput(dataTable, element);\n",
              "          const docLink = document.createElement('div');\n",
              "          docLink.innerHTML = docLinkHtml;\n",
              "          element.appendChild(docLink);\n",
              "        }\n",
              "      </script>\n",
              "    </div>\n",
              "  </div>\n",
              "  "
            ]
          },
          "metadata": {},
          "execution_count": 28
        }
      ],
      "source": [
        "X_train.head()"
      ]
    },
    {
      "cell_type": "code",
      "execution_count": 29,
      "id": "90477859",
      "metadata": {
        "execution": {
          "iopub.execute_input": "2022-05-04T02:53:25.267751Z",
          "iopub.status.busy": "2022-05-04T02:53:25.266782Z",
          "iopub.status.idle": "2022-05-04T02:53:25.282213Z",
          "shell.execute_reply": "2022-05-04T02:53:25.281660Z",
          "shell.execute_reply.started": "2022-03-08T01:25:06.391737Z"
        },
        "papermill": {
          "duration": 0.08758,
          "end_time": "2022-05-04T02:53:25.282363",
          "exception": false,
          "start_time": "2022-05-04T02:53:25.194783",
          "status": "completed"
        },
        "tags": [],
        "colab": {
          "base_uri": "https://localhost:8080/",
          "height": 287
        },
        "id": "90477859",
        "outputId": "7ef7184f-d461-4157-fe0b-6aa5bed5e515"
      },
      "outputs": [
        {
          "output_type": "execute_result",
          "data": {
            "text/plain": [
              "     Sex  BP  Cholesterol  Age_binned_<20s  Age_binned_20s  Age_binned_30s  \\\n",
              "18     1   0            1                0               1               0   \n",
              "170    0   1            1                0               1               0   \n",
              "107    1   0            1                0               0               0   \n",
              "98     1   2            0                0               1               0   \n",
              "177    1   1            1                0               1               0   \n",
              "\n",
              "     Age_binned_40s  Age_binned_50s  Age_binned_60s  Age_binned_>60s  \\\n",
              "18                0               0               0                0   \n",
              "170               0               0               0                0   \n",
              "107               1               0               0                0   \n",
              "98                0               0               0                0   \n",
              "177               0               0               0                0   \n",
              "\n",
              "     Na_to_K_binned_<10  Na_to_K_binned_10-20  Na_to_K_binned_20-30  \\\n",
              "18                    1                     0                     0   \n",
              "170                   0                     1                     0   \n",
              "107                   0                     0                     1   \n",
              "98                    0                     0                     0   \n",
              "177                   0                     0                     1   \n",
              "\n",
              "     Na_to_K_binned_>30  \n",
              "18                    0  \n",
              "170                   0  \n",
              "107                   0  \n",
              "98                    1  \n",
              "177                   0  "
            ],
            "text/html": [
              "\n",
              "  <div id=\"df-23f9d29d-3935-4c21-b872-b6467e0eae8f\">\n",
              "    <div class=\"colab-df-container\">\n",
              "      <div>\n",
              "<style scoped>\n",
              "    .dataframe tbody tr th:only-of-type {\n",
              "        vertical-align: middle;\n",
              "    }\n",
              "\n",
              "    .dataframe tbody tr th {\n",
              "        vertical-align: top;\n",
              "    }\n",
              "\n",
              "    .dataframe thead th {\n",
              "        text-align: right;\n",
              "    }\n",
              "</style>\n",
              "<table border=\"1\" class=\"dataframe\">\n",
              "  <thead>\n",
              "    <tr style=\"text-align: right;\">\n",
              "      <th></th>\n",
              "      <th>Sex</th>\n",
              "      <th>BP</th>\n",
              "      <th>Cholesterol</th>\n",
              "      <th>Age_binned_&lt;20s</th>\n",
              "      <th>Age_binned_20s</th>\n",
              "      <th>Age_binned_30s</th>\n",
              "      <th>Age_binned_40s</th>\n",
              "      <th>Age_binned_50s</th>\n",
              "      <th>Age_binned_60s</th>\n",
              "      <th>Age_binned_&gt;60s</th>\n",
              "      <th>Na_to_K_binned_&lt;10</th>\n",
              "      <th>Na_to_K_binned_10-20</th>\n",
              "      <th>Na_to_K_binned_20-30</th>\n",
              "      <th>Na_to_K_binned_&gt;30</th>\n",
              "    </tr>\n",
              "  </thead>\n",
              "  <tbody>\n",
              "    <tr>\n",
              "      <th>18</th>\n",
              "      <td>1</td>\n",
              "      <td>0</td>\n",
              "      <td>1</td>\n",
              "      <td>0</td>\n",
              "      <td>1</td>\n",
              "      <td>0</td>\n",
              "      <td>0</td>\n",
              "      <td>0</td>\n",
              "      <td>0</td>\n",
              "      <td>0</td>\n",
              "      <td>1</td>\n",
              "      <td>0</td>\n",
              "      <td>0</td>\n",
              "      <td>0</td>\n",
              "    </tr>\n",
              "    <tr>\n",
              "      <th>170</th>\n",
              "      <td>0</td>\n",
              "      <td>1</td>\n",
              "      <td>1</td>\n",
              "      <td>0</td>\n",
              "      <td>1</td>\n",
              "      <td>0</td>\n",
              "      <td>0</td>\n",
              "      <td>0</td>\n",
              "      <td>0</td>\n",
              "      <td>0</td>\n",
              "      <td>0</td>\n",
              "      <td>1</td>\n",
              "      <td>0</td>\n",
              "      <td>0</td>\n",
              "    </tr>\n",
              "    <tr>\n",
              "      <th>107</th>\n",
              "      <td>1</td>\n",
              "      <td>0</td>\n",
              "      <td>1</td>\n",
              "      <td>0</td>\n",
              "      <td>0</td>\n",
              "      <td>0</td>\n",
              "      <td>1</td>\n",
              "      <td>0</td>\n",
              "      <td>0</td>\n",
              "      <td>0</td>\n",
              "      <td>0</td>\n",
              "      <td>0</td>\n",
              "      <td>1</td>\n",
              "      <td>0</td>\n",
              "    </tr>\n",
              "    <tr>\n",
              "      <th>98</th>\n",
              "      <td>1</td>\n",
              "      <td>2</td>\n",
              "      <td>0</td>\n",
              "      <td>0</td>\n",
              "      <td>1</td>\n",
              "      <td>0</td>\n",
              "      <td>0</td>\n",
              "      <td>0</td>\n",
              "      <td>0</td>\n",
              "      <td>0</td>\n",
              "      <td>0</td>\n",
              "      <td>0</td>\n",
              "      <td>0</td>\n",
              "      <td>1</td>\n",
              "    </tr>\n",
              "    <tr>\n",
              "      <th>177</th>\n",
              "      <td>1</td>\n",
              "      <td>1</td>\n",
              "      <td>1</td>\n",
              "      <td>0</td>\n",
              "      <td>1</td>\n",
              "      <td>0</td>\n",
              "      <td>0</td>\n",
              "      <td>0</td>\n",
              "      <td>0</td>\n",
              "      <td>0</td>\n",
              "      <td>0</td>\n",
              "      <td>0</td>\n",
              "      <td>1</td>\n",
              "      <td>0</td>\n",
              "    </tr>\n",
              "  </tbody>\n",
              "</table>\n",
              "</div>\n",
              "      <button class=\"colab-df-convert\" onclick=\"convertToInteractive('df-23f9d29d-3935-4c21-b872-b6467e0eae8f')\"\n",
              "              title=\"Convert this dataframe to an interactive table.\"\n",
              "              style=\"display:none;\">\n",
              "        \n",
              "  <svg xmlns=\"http://www.w3.org/2000/svg\" height=\"24px\"viewBox=\"0 0 24 24\"\n",
              "       width=\"24px\">\n",
              "    <path d=\"M0 0h24v24H0V0z\" fill=\"none\"/>\n",
              "    <path d=\"M18.56 5.44l.94 2.06.94-2.06 2.06-.94-2.06-.94-.94-2.06-.94 2.06-2.06.94zm-11 1L8.5 8.5l.94-2.06 2.06-.94-2.06-.94L8.5 2.5l-.94 2.06-2.06.94zm10 10l.94 2.06.94-2.06 2.06-.94-2.06-.94-.94-2.06-.94 2.06-2.06.94z\"/><path d=\"M17.41 7.96l-1.37-1.37c-.4-.4-.92-.59-1.43-.59-.52 0-1.04.2-1.43.59L10.3 9.45l-7.72 7.72c-.78.78-.78 2.05 0 2.83L4 21.41c.39.39.9.59 1.41.59.51 0 1.02-.2 1.41-.59l7.78-7.78 2.81-2.81c.8-.78.8-2.07 0-2.86zM5.41 20L4 18.59l7.72-7.72 1.47 1.35L5.41 20z\"/>\n",
              "  </svg>\n",
              "      </button>\n",
              "      \n",
              "  <style>\n",
              "    .colab-df-container {\n",
              "      display:flex;\n",
              "      flex-wrap:wrap;\n",
              "      gap: 12px;\n",
              "    }\n",
              "\n",
              "    .colab-df-convert {\n",
              "      background-color: #E8F0FE;\n",
              "      border: none;\n",
              "      border-radius: 50%;\n",
              "      cursor: pointer;\n",
              "      display: none;\n",
              "      fill: #1967D2;\n",
              "      height: 32px;\n",
              "      padding: 0 0 0 0;\n",
              "      width: 32px;\n",
              "    }\n",
              "\n",
              "    .colab-df-convert:hover {\n",
              "      background-color: #E2EBFA;\n",
              "      box-shadow: 0px 1px 2px rgba(60, 64, 67, 0.3), 0px 1px 3px 1px rgba(60, 64, 67, 0.15);\n",
              "      fill: #174EA6;\n",
              "    }\n",
              "\n",
              "    [theme=dark] .colab-df-convert {\n",
              "      background-color: #3B4455;\n",
              "      fill: #D2E3FC;\n",
              "    }\n",
              "\n",
              "    [theme=dark] .colab-df-convert:hover {\n",
              "      background-color: #434B5C;\n",
              "      box-shadow: 0px 1px 3px 1px rgba(0, 0, 0, 0.15);\n",
              "      filter: drop-shadow(0px 1px 2px rgba(0, 0, 0, 0.3));\n",
              "      fill: #FFFFFF;\n",
              "    }\n",
              "  </style>\n",
              "\n",
              "      <script>\n",
              "        const buttonEl =\n",
              "          document.querySelector('#df-23f9d29d-3935-4c21-b872-b6467e0eae8f button.colab-df-convert');\n",
              "        buttonEl.style.display =\n",
              "          google.colab.kernel.accessAllowed ? 'block' : 'none';\n",
              "\n",
              "        async function convertToInteractive(key) {\n",
              "          const element = document.querySelector('#df-23f9d29d-3935-4c21-b872-b6467e0eae8f');\n",
              "          const dataTable =\n",
              "            await google.colab.kernel.invokeFunction('convertToInteractive',\n",
              "                                                     [key], {});\n",
              "          if (!dataTable) return;\n",
              "\n",
              "          const docLinkHtml = 'Like what you see? Visit the ' +\n",
              "            '<a target=\"_blank\" href=https://colab.research.google.com/notebooks/data_table.ipynb>data table notebook</a>'\n",
              "            + ' to learn more about interactive tables.';\n",
              "          element.innerHTML = '';\n",
              "          dataTable['output_type'] = 'display_data';\n",
              "          await google.colab.output.renderOutput(dataTable, element);\n",
              "          const docLink = document.createElement('div');\n",
              "          docLink.innerHTML = docLinkHtml;\n",
              "          element.appendChild(docLink);\n",
              "        }\n",
              "      </script>\n",
              "    </div>\n",
              "  </div>\n",
              "  "
            ]
          },
          "metadata": {},
          "execution_count": 29
        }
      ],
      "source": [
        "X_test.head()"
      ]
    },
    {
      "cell_type": "markdown",
      "id": "7fe5d052",
      "metadata": {
        "papermill": {
          "duration": 0.080296,
          "end_time": "2022-05-04T02:53:26.414051",
          "exception": false,
          "start_time": "2022-05-04T02:53:26.333755",
          "status": "completed"
        },
        "tags": [],
        "id": "7fe5d052"
      },
      "source": [
        "👉 As can be seen, the distrubtion of drug type are now balanced."
      ]
    },
    {
      "cell_type": "markdown",
      "id": "ea7c1b40",
      "metadata": {
        "id": "ea7c1b40",
        "papermill": {
          "duration": 0.070394,
          "end_time": "2022-05-04T02:53:26.556771",
          "exception": false,
          "start_time": "2022-05-04T02:53:26.486377",
          "status": "completed"
        },
        "tags": []
      },
      "source": [
        "# 10. Model Building "
      ]
    },
    {
      "cell_type": "markdown",
      "id": "3534b4a5",
      "metadata": {
        "id": "3534b4a5",
        "papermill": {
          "duration": 0.069393,
          "end_time": "2022-05-04T02:53:26.696188",
          "exception": false,
          "start_time": "2022-05-04T02:53:26.626795",
          "status": "completed"
        },
        "tags": []
      },
      "source": [
        "## 10.1 Logistic Regression"
      ]
    },
    {
      "cell_type": "code",
      "execution_count": 30,
      "id": "5890314b",
      "metadata": {
        "execution": {
          "iopub.execute_input": "2022-05-04T02:53:26.840093Z",
          "iopub.status.busy": "2022-05-04T02:53:26.839029Z",
          "iopub.status.idle": "2022-05-04T02:53:26.879340Z",
          "shell.execute_reply": "2022-05-04T02:53:26.878739Z",
          "shell.execute_reply.started": "2022-03-08T01:25:07.045415Z"
        },
        "id": "5890314b",
        "outputId": "608e0a52-94a0-4bbe-9098-4c3ddccfa4fa",
        "papermill": {
          "duration": 0.113548,
          "end_time": "2022-05-04T02:53:26.879483",
          "exception": false,
          "start_time": "2022-05-04T02:53:26.765935",
          "status": "completed"
        },
        "tags": [],
        "colab": {
          "base_uri": "https://localhost:8080/"
        }
      },
      "outputs": [
        {
          "output_type": "stream",
          "name": "stdout",
          "text": [
            "              precision    recall  f1-score   support\n",
            "\n",
            "       DrugY       0.77      0.80      0.79        30\n",
            "       drugA       0.50      0.60      0.55         5\n",
            "       drugB       0.67      0.67      0.67         3\n",
            "       drugC       0.50      0.25      0.33         4\n",
            "       drugX       0.72      0.72      0.72        18\n",
            "\n",
            "    accuracy                           0.72        60\n",
            "   macro avg       0.63      0.61      0.61        60\n",
            "weighted avg       0.71      0.72      0.71        60\n",
            "\n",
            "[[24  2  1  1  2]\n",
            " [ 2  3  0  0  0]\n",
            " [ 1  0  2  0  0]\n",
            " [ 0  0  0  1  3]\n",
            " [ 4  1  0  0 13]]\n",
            "Logistic Regression accuracy is: 71.67%\n"
          ]
        }
      ],
      "source": [
        "from sklearn.linear_model import LogisticRegression\n",
        "LRclassifier = LogisticRegression(solver='liblinear', max_iter=5000)\n",
        "LRclassifier.fit(X_train, y_train)\n",
        "\n",
        "y_pred = LRclassifier.predict(X_test)\n",
        "\n",
        "print(classification_report(y_test, y_pred))\n",
        "print(confusion_matrix(y_test, y_pred))\n",
        "\n",
        "from sklearn.metrics import accuracy_score\n",
        "LRAcc = accuracy_score(y_pred,y_test)\n",
        "print('Logistic Regression accuracy is: {:.2f}%'.format(LRAcc*100))"
      ]
    },
    {
      "cell_type": "markdown",
      "id": "8f600436",
      "metadata": {
        "id": "8f600436",
        "papermill": {
          "duration": 0.069866,
          "end_time": "2022-05-04T02:53:27.019892",
          "exception": false,
          "start_time": "2022-05-04T02:53:26.950026",
          "status": "completed"
        },
        "tags": []
      },
      "source": [
        "## 10.2 K-Nearest Neighbours"
      ]
    },
    {
      "cell_type": "code",
      "execution_count": 31,
      "id": "fa800c6f",
      "metadata": {
        "execution": {
          "iopub.execute_input": "2022-05-04T02:53:27.172960Z",
          "iopub.status.busy": "2022-05-04T02:53:27.171889Z",
          "iopub.status.idle": "2022-05-04T02:53:27.185732Z",
          "shell.execute_reply": "2022-05-04T02:53:27.186241Z",
          "shell.execute_reply.started": "2022-03-08T01:25:07.093409Z"
        },
        "papermill": {
          "duration": 0.09542,
          "end_time": "2022-05-04T02:53:27.186418",
          "exception": false,
          "start_time": "2022-05-04T02:53:27.090998",
          "status": "completed"
        },
        "tags": [],
        "colab": {
          "base_uri": "https://localhost:8080/"
        },
        "id": "fa800c6f",
        "outputId": "fcb73b01-521f-455c-fe4d-edb53fea0c39"
      },
      "outputs": [
        {
          "output_type": "stream",
          "name": "stdout",
          "text": [
            "              precision    recall  f1-score   support\n",
            "\n",
            "       DrugY       0.72      0.77      0.74        30\n",
            "       drugA       0.50      0.20      0.29         5\n",
            "       drugB       0.50      0.33      0.40         3\n",
            "       drugC       0.00      0.00      0.00         4\n",
            "       drugX       0.78      1.00      0.88        18\n",
            "\n",
            "    accuracy                           0.72        60\n",
            "   macro avg       0.50      0.46      0.46        60\n",
            "weighted avg       0.66      0.72      0.68        60\n",
            "\n",
            "[[23  1  1  1  4]\n",
            " [ 4  1  0  0  0]\n",
            " [ 2  0  1  0  0]\n",
            " [ 3  0  0  0  1]\n",
            " [ 0  0  0  0 18]]\n",
            "K Neighbours accuracy is: 71.67%\n"
          ]
        }
      ],
      "source": [
        "from sklearn.neighbors import KNeighborsClassifier\n",
        "KNclassifier = KNeighborsClassifier(n_neighbors=20)\n",
        "KNclassifier.fit(X_train, y_train)\n",
        "\n",
        "y_pred = KNclassifier.predict(X_test)\n",
        "\n",
        "print(classification_report(y_test, y_pred))\n",
        "print(confusion_matrix(y_test, y_pred))\n",
        "\n",
        "from sklearn.metrics import accuracy_score\n",
        "KNAcc = accuracy_score(y_pred,y_test)\n",
        "print('K Neighbours accuracy is: {:.2f}%'.format(KNAcc*100))"
      ]
    },
    {
      "cell_type": "code",
      "execution_count": 32,
      "id": "264505eb",
      "metadata": {
        "execution": {
          "iopub.execute_input": "2022-05-04T02:53:27.330216Z",
          "iopub.status.busy": "2022-05-04T02:53:27.329583Z",
          "iopub.status.idle": "2022-05-04T02:53:27.917687Z",
          "shell.execute_reply": "2022-05-04T02:53:27.918184Z",
          "shell.execute_reply.started": "2022-03-08T01:25:07.120338Z"
        },
        "papermill": {
          "duration": 0.661607,
          "end_time": "2022-05-04T02:53:27.918361",
          "exception": false,
          "start_time": "2022-05-04T02:53:27.256754",
          "status": "completed"
        },
        "tags": [],
        "colab": {
          "base_uri": "https://localhost:8080/",
          "height": 321
        },
        "id": "264505eb",
        "outputId": "da34d79d-dac0-4a24-c4b9-77595bf05677"
      },
      "outputs": [
        {
          "output_type": "display_data",
          "data": {
            "text/plain": [
              "<Figure size 432x288 with 1 Axes>"
            ],
            "image/png": "[encoded data removed]"
          },
          "metadata": {}
        },
        {
          "output_type": "stream",
          "name": "stdout",
          "text": [
            "KNN Acc Max 76.67%\n"
          ]
        }
      ],
      "source": [
        "scoreListknn = []\n",
        "for i in range(1,30):\n",
        "    KNclassifier = KNeighborsClassifier(n_neighbors = i)\n",
        "    KNclassifier.fit(X_train, y_train)\n",
        "    scoreListknn.append(KNclassifier.score(X_test, y_test))\n",
        "    \n",
        "plt.plot(range(1,30), scoreListknn)\n",
        "plt.xticks(np.arange(1,30,1))\n",
        "plt.xlabel(\"K value\")\n",
        "plt.ylabel(\"Score\")\n",
        "plt.show()\n",
        "KNAccMax = max(scoreListknn)\n",
        "print(\"KNN Acc Max {:.2f}%\".format(KNAccMax*100))"
      ]
    },
    {
      "cell_type": "markdown",
      "id": "a27cd9d8",
      "metadata": {
        "id": "a27cd9d8",
        "papermill": {
          "duration": 0.073019,
          "end_time": "2022-05-04T02:53:28.387869",
          "exception": false,
          "start_time": "2022-05-04T02:53:28.314850",
          "status": "completed"
        },
        "tags": []
      },
      "source": [
        "## 10.3 Naive Bayes Classifier\n"
      ]
    },
    {
      "cell_type": "code",
      "execution_count": 33,
      "id": "ab3260b1",
      "metadata": {
        "execution": {
          "iopub.execute_input": "2022-05-04T02:53:28.540752Z",
          "iopub.status.busy": "2022-05-04T02:53:28.540046Z",
          "iopub.status.idle": "2022-05-04T02:53:28.561912Z",
          "shell.execute_reply": "2022-05-04T02:53:28.562385Z",
          "shell.execute_reply.started": "2022-03-08T01:25:07.792769Z"
        },
        "id": "ab3260b1",
        "outputId": "e4fbc3f0-978b-41a2-ed1d-1b4502ad21a3",
        "papermill": {
          "duration": 0.101352,
          "end_time": "2022-05-04T02:53:28.562556",
          "exception": false,
          "start_time": "2022-05-04T02:53:28.461204",
          "status": "completed"
        },
        "tags": [],
        "colab": {
          "base_uri": "https://localhost:8080/"
        }
      },
      "outputs": [
        {
          "output_type": "stream",
          "name": "stdout",
          "text": [
            "              precision    recall  f1-score   support\n",
            "\n",
            "       DrugY       1.00      0.70      0.82        30\n",
            "       drugA       0.71      1.00      0.83         5\n",
            "       drugB       0.75      1.00      0.86         3\n",
            "       drugC       0.50      0.50      0.50         4\n",
            "       drugX       0.75      1.00      0.86        18\n",
            "\n",
            "    accuracy                           0.82        60\n",
            "   macro avg       0.74      0.84      0.77        60\n",
            "weighted avg       0.86      0.82      0.81        60\n",
            "\n",
            "[[21  2  1  2  4]\n",
            " [ 0  5  0  0  0]\n",
            " [ 0  0  3  0  0]\n",
            " [ 0  0  0  2  2]\n",
            " [ 0  0  0  0 18]]\n",
            "Naive Bayes accuracy is: 81.67%\n"
          ]
        }
      ],
      "source": [
        "from sklearn.naive_bayes import CategoricalNB\n",
        "NBclassifier1 = CategoricalNB()\n",
        "NBclassifier1.fit(X_train, y_train)\n",
        "\n",
        "y_pred = NBclassifier1.predict(X_test)\n",
        "\n",
        "print(classification_report(y_test, y_pred))\n",
        "print(confusion_matrix(y_test, y_pred))\n",
        "\n",
        "from sklearn.metrics import accuracy_score\n",
        "NBAcc1 = accuracy_score(y_pred,y_test)\n",
        "print('Naive Bayes accuracy is: {:.2f}%'.format(NBAcc1*100))"
      ]
    },
    {
      "cell_type": "markdown",
      "id": "145b2404",
      "metadata": {
        "id": "145b2404",
        "papermill": {
          "duration": 0.074099,
          "end_time": "2022-05-04T02:53:29.029910",
          "exception": false,
          "start_time": "2022-05-04T02:53:28.955811",
          "status": "completed"
        },
        "tags": []
      },
      "source": [
        "## 10.4 Decision Tree Making"
      ]
    },
    {
      "cell_type": "code",
      "execution_count": null,
      "id": "e7fea0de",
      "metadata": {
        "execution": {
          "iopub.execute_input": "2022-05-04T02:53:29.183748Z",
          "iopub.status.busy": "2022-05-04T02:53:29.183051Z",
          "iopub.status.idle": "2022-05-04T02:53:29.200342Z",
          "shell.execute_reply": "2022-05-04T02:53:29.200852Z",
          "shell.execute_reply.started": "2022-03-08T01:25:07.843802Z"
        },
        "id": "e7fea0de",
        "outputId": "764f89aa-0054-4bde-b46f-53923608665e",
        "papermill": {
          "duration": 0.096105,
          "end_time": "2022-05-04T02:53:29.201046",
          "exception": false,
          "start_time": "2022-05-04T02:53:29.104941",
          "status": "completed"
        },
        "tags": [],
        "colab": {
          "base_uri": "https://localhost:8080/"
        }
      },
      "outputs": [
        {
          "output_type": "stream",
          "name": "stdout",
          "text": [
            "              precision    recall  f1-score   support\n",
            "\n",
            "       DrugY       0.90      0.60      0.72        30\n",
            "       drugA       0.50      1.00      0.67         5\n",
            "       drugB       0.75      1.00      0.86         3\n",
            "       drugC       0.67      1.00      0.80         4\n",
            "       drugX       0.80      0.89      0.84        18\n",
            "\n",
            "    accuracy                           0.77        60\n",
            "   macro avg       0.72      0.90      0.78        60\n",
            "weighted avg       0.81      0.77      0.76        60\n",
            "\n",
            "[[18  5  1  2  4]\n",
            " [ 0  5  0  0  0]\n",
            " [ 0  0  3  0  0]\n",
            " [ 0  0  0  4  0]\n",
            " [ 2  0  0  0 16]]\n",
            "Decision Tree accuracy is: 76.67%\n"
          ]
        }
      ],
      "source": [
        "from sklearn.tree import DecisionTreeClassifier\n",
        "DTclassifier = DecisionTreeClassifier(max_leaf_nodes=20)\n",
        "DTclassifier.fit(X_train, y_train)\n",
        "\n",
        "y_pred = DTclassifier.predict(X_test)\n",
        "\n",
        "print(classification_report(y_test, y_pred))\n",
        "print(confusion_matrix(y_test, y_pred))\n",
        "\n",
        "from sklearn.metrics import accuracy_score\n",
        "DTAcc = accuracy_score(y_pred,y_test)\n",
        "print('Decision Tree accuracy is: {:.2f}%'.format(DTAcc*100))"
      ]
    },
    {
      "cell_type": "code",
      "execution_count": null,
      "id": "955268b8",
      "metadata": {
        "execution": {
          "iopub.execute_input": "2022-05-04T02:53:29.353120Z",
          "iopub.status.busy": "2022-05-04T02:53:29.352416Z",
          "iopub.status.idle": "2022-05-04T02:53:29.748469Z",
          "shell.execute_reply": "2022-05-04T02:53:29.749009Z",
          "shell.execute_reply.started": "2022-03-08T01:25:07.865647Z"
        },
        "papermill": {
          "duration": 0.473827,
          "end_time": "2022-05-04T02:53:29.749197",
          "exception": false,
          "start_time": "2022-05-04T02:53:29.275370",
          "status": "completed"
        },
        "tags": [],
        "colab": {
          "base_uri": "https://localhost:8080/",
          "height": 302
        },
        "id": "955268b8",
        "outputId": "ddd9c895-3fe5-4d2f-9dff-023c00ab011c"
      },
      "outputs": [
        {
          "output_type": "display_data",
          "data": {
            "text/plain": [
              "<Figure size 432x288 with 1 Axes>"
            ],
            "image/png": "[encoded data removed]"
          },
          "metadata": {}
        },
        {
          "output_type": "stream",
          "name": "stdout",
          "text": [
            "DT Acc Max 76.67%\n"
          ]
        }
      ],
      "source": [
        "scoreListDT = []\n",
        "for i in range(2,50):\n",
        "    DTclassifier = DecisionTreeClassifier(max_leaf_nodes=i)\n",
        "    DTclassifier.fit(X_train, y_train)\n",
        "    scoreListDT.append(DTclassifier.score(X_test, y_test))\n",
        "    \n",
        "plt.plot(range(2,50), scoreListDT)\n",
        "plt.xticks(np.arange(2,50,5))\n",
        "plt.xlabel(\"Leaf\")\n",
        "plt.ylabel(\"Score\")\n",
        "plt.show()\n",
        "DTAccMax = max(scoreListDT)\n",
        "print(\"DT Acc Max {:.2f}%\".format(DTAccMax*100))"
      ]
    },
    {
      "cell_type": "markdown",
      "id": "c04585d9",
      "metadata": {
        "id": "c04585d9",
        "papermill": {
          "duration": 0.077205,
          "end_time": "2022-05-04T02:53:29.902754",
          "exception": false,
          "start_time": "2022-05-04T02:53:29.825549",
          "status": "completed"
        },
        "tags": []
      },
      "source": [
        "## 10.5 Random Forest Classifier\n",
        "\n",
        "\n",
        "\n"
      ]
    },
    {
      "cell_type": "code",
      "execution_count": null,
      "id": "38dba457",
      "metadata": {
        "execution": {
          "iopub.execute_input": "2022-05-04T02:53:30.060629Z",
          "iopub.status.busy": "2022-05-04T02:53:30.059654Z",
          "iopub.status.idle": "2022-05-04T02:53:30.279329Z",
          "shell.execute_reply": "2022-05-04T02:53:30.278778Z",
          "shell.execute_reply.started": "2022-03-08T01:25:08.31948Z"
        },
        "id": "38dba457",
        "outputId": "3344c29c-4198-4aff-e120-992758b1d47e",
        "papermill": {
          "duration": 0.299608,
          "end_time": "2022-05-04T02:53:30.279477",
          "exception": false,
          "start_time": "2022-05-04T02:53:29.979869",
          "status": "completed"
        },
        "tags": [],
        "colab": {
          "base_uri": "https://localhost:8080/"
        }
      },
      "outputs": [
        {
          "output_type": "stream",
          "name": "stdout",
          "text": [
            "              precision    recall  f1-score   support\n",
            "\n",
            "       DrugY       1.00      0.67      0.80        30\n",
            "       drugA       0.62      1.00      0.77         5\n",
            "       drugB       0.75      1.00      0.86         3\n",
            "       drugC       0.67      1.00      0.80         4\n",
            "       drugX       0.82      1.00      0.90        18\n",
            "\n",
            "    accuracy                           0.83        60\n",
            "   macro avg       0.77      0.93      0.83        60\n",
            "weighted avg       0.88      0.83      0.83        60\n",
            "\n",
            "[[20  3  1  2  4]\n",
            " [ 0  5  0  0  0]\n",
            " [ 0  0  3  0  0]\n",
            " [ 0  0  0  4  0]\n",
            " [ 0  0  0  0 18]]\n",
            "Random Forest accuracy is: 83.33%\n"
          ]
        }
      ],
      "source": [
        "from sklearn.ensemble import RandomForestClassifier\n",
        "\n",
        "RFclassifier = RandomForestClassifier(max_leaf_nodes=30)\n",
        "RFclassifier.fit(X_train, y_train)\n",
        "\n",
        "y_pred = RFclassifier.predict(X_test)\n",
        "\n",
        "print(classification_report(y_test, y_pred))\n",
        "print(confusion_matrix(y_test, y_pred))\n",
        "\n",
        "from sklearn.metrics import accuracy_score\n",
        "RFAcc = accuracy_score(y_pred,y_test)\n",
        "print('Random Forest accuracy is: {:.2f}%'.format(RFAcc*100))"
      ]
    },
    {
      "cell_type": "code",
      "execution_count": null,
      "id": "c5c94795",
      "metadata": {
        "execution": {
          "iopub.execute_input": "2022-05-04T02:53:30.438305Z",
          "iopub.status.busy": "2022-05-04T02:53:30.437334Z",
          "iopub.status.idle": "2022-05-04T02:55:06.670664Z",
          "shell.execute_reply": "2022-05-04T02:55:06.670052Z",
          "shell.execute_reply.started": "2022-03-08T01:25:08.544304Z"
        },
        "papermill": {
          "duration": 96.313733,
          "end_time": "2022-05-04T02:55:06.670819",
          "exception": false,
          "start_time": "2022-05-04T02:53:30.357086",
          "status": "completed"
        },
        "tags": [],
        "colab": {
          "base_uri": "https://localhost:8080/",
          "height": 302
        },
        "id": "c5c94795",
        "outputId": "9e7a853a-a586-49c2-b7aa-093cd58bfd9e"
      },
      "outputs": [
        {
          "output_type": "display_data",
          "data": {
            "text/plain": [
              "<Figure size 432x288 with 1 Axes>"
            ],
            "image/png": "[encoded data removed]"
          },
          "metadata": {}
        },
        {
          "output_type": "stream",
          "name": "stdout",
          "text": [
            "RF Acc Max 83.33%\n"
          ]
        }
      ],
      "source": [
        "scoreListRF = []\n",
        "for i in range(2,50):\n",
        "    RFclassifier = RandomForestClassifier(n_estimators = 1000, random_state = 1, max_leaf_nodes=i)\n",
        "    RFclassifier.fit(X_train, y_train)\n",
        "    scoreListRF.append(RFclassifier.score(X_test, y_test))\n",
        "    \n",
        "plt.plot(range(2,50), scoreListRF)\n",
        "plt.xticks(np.arange(2,50,5))\n",
        "plt.xlabel(\"RF Value\")\n",
        "plt.ylabel(\"Score\")\n",
        "plt.show()\n",
        "RFAccMax = max(scoreListRF)\n",
        "print(\"RF Acc Max {:.2f}%\".format(RFAccMax*100))"
      ]
    },
    {
      "cell_type": "code",
      "source": [
        "rf = RandomForestClassifier()\n",
        "rf.fit(x_train,y_train)"
      ],
      "metadata": {
        "colab": {
          "base_uri": "https://localhost:8080/"
        },
        "id": "plkp5HISA000",
        "outputId": "613bbd7f-c496-4df2-b785-84eb072a58ff"
      },
      "id": "plkp5HISA000",
      "execution_count": 34,
      "outputs": [
        {
          "output_type": "execute_result",
          "data": {
            "text/plain": [
              "RandomForestClassifier()"
            ]
          },
          "metadata": {},
          "execution_count": 34
        }
      ]
    },
    {
      "cell_type": "code",
      "source": [
        "ypred = rf.predict(x_test)"
      ],
      "metadata": {
        "id": "oQ7gBlWMA3H1"
      },
      "id": "oQ7gBlWMA3H1",
      "execution_count": 35,
      "outputs": []
    },
    {
      "cell_type": "code",
      "source": [
        "confusion_matrix(y_test,ypred)"
      ],
      "metadata": {
        "colab": {
          "base_uri": "https://localhost:8080/"
        },
        "id": "7qX3mRfeA5Fd",
        "outputId": "4c977a71-e225-456e-e29d-26e39d57a5c7"
      },
      "id": "7qX3mRfeA5Fd",
      "execution_count": 36,
      "outputs": [
        {
          "output_type": "execute_result",
          "data": {
            "text/plain": [
              "array([[18,  1,  2,  2,  7],\n",
              "       [ 0,  0,  1,  0,  4],\n",
              "       [ 2,  1,  0,  0,  0],\n",
              "       [ 2,  0,  0,  0,  2],\n",
              "       [12,  0,  3,  0,  3]])"
            ]
          },
          "metadata": {},
          "execution_count": 36
        }
      ]
    },
    {
      "cell_type": "code",
      "source": [
        "print(classification_report(y_test,ypred))"
      ],
      "metadata": {
        "colab": {
          "base_uri": "https://localhost:8080/"
        },
        "id": "TjdqqUiKA6_A",
        "outputId": "f9d0e050-5629-45c2-9bb6-0126e650fe5d"
      },
      "id": "TjdqqUiKA6_A",
      "execution_count": 37,
      "outputs": [
        {
          "output_type": "stream",
          "name": "stdout",
          "text": [
            "              precision    recall  f1-score   support\n",
            "\n",
            "       DrugY       0.53      0.60      0.56        30\n",
            "       drugA       0.00      0.00      0.00         5\n",
            "       drugB       0.00      0.00      0.00         3\n",
            "       drugC       0.00      0.00      0.00         4\n",
            "       drugX       0.19      0.17      0.18        18\n",
            "\n",
            "    accuracy                           0.35        60\n",
            "   macro avg       0.14      0.15      0.15        60\n",
            "weighted avg       0.32      0.35      0.33        60\n",
            "\n"
          ]
        }
      ]
    },
    {
      "cell_type": "markdown",
      "id": "7512e97d",
      "metadata": {
        "id": "7512e97d",
        "papermill": {
          "duration": 0.140707,
          "end_time": "2022-05-04T02:55:06.897435",
          "exception": false,
          "start_time": "2022-05-04T02:55:06.756728",
          "status": "completed"
        },
        "tags": []
      },
      "source": [
        "# 11. Model Evaluation and comparison 👀"
      ]
    },
    {
      "cell_type": "code",
      "execution_count": null,
      "id": "c1626d42",
      "metadata": {
        "execution": {
          "iopub.execute_input": "2022-05-04T02:55:07.072768Z",
          "iopub.status.busy": "2022-05-04T02:55:07.072025Z",
          "iopub.status.idle": "2022-05-04T02:55:07.081835Z",
          "shell.execute_reply": "2022-05-04T02:55:07.082479Z",
          "shell.execute_reply.started": "2022-03-08T01:26:43.760138Z"
        },
        "id": "c1626d42",
        "outputId": "136acfc4-5ca9-410c-e3b0-7d6109c6d431",
        "papermill": {
          "duration": 0.10087,
          "end_time": "2022-05-04T02:55:07.082694",
          "exception": false,
          "start_time": "2022-05-04T02:55:06.981824",
          "status": "completed"
        },
        "tags": [],
        "colab": {
          "base_uri": "https://localhost:8080/",
          "height": 363
        }
      },
      "outputs": [
        {
          "output_type": "execute_result",
          "data": {
            "text/plain": [
              "                 Model   Accuracy\n",
              "0  Logistic Regression  83.333333\n",
              "4       Categorical NB  83.333333\n",
              "8        Random Forest  83.333333\n",
              "9    Random Forest Max  83.333333\n",
              "3                  SVM  80.000000\n",
              "6        Decision Tree  76.666667\n",
              "7    Decision Tree Max  76.666667\n",
              "2      K Neighbors Max  71.666667\n",
              "5          Gaussian NB  70.000000\n",
              "1          K Neighbors  65.000000"
            ],
            "text/html": [
              "\n",
              "  <div id=\"df-42a1c33a-c720-4acd-9dcd-c75f354aa73b\">\n",
              "    <div class=\"colab-df-container\">\n",
              "      <div>\n",
              "<style scoped>\n",
              "    .dataframe tbody tr th:only-of-type {\n",
              "        vertical-align: middle;\n",
              "    }\n",
              "\n",
              "    .dataframe tbody tr th {\n",
              "        vertical-align: top;\n",
              "    }\n",
              "\n",
              "    .dataframe thead th {\n",
              "        text-align: right;\n",
              "    }\n",
              "</style>\n",
              "<table border=\"1\" class=\"dataframe\">\n",
              "  <thead>\n",
              "    <tr style=\"text-align: right;\">\n",
              "      <th></th>\n",
              "      <th>Model</th>\n",
              "      <th>Accuracy</th>\n",
              "    </tr>\n",
              "  </thead>\n",
              "  <tbody>\n",
              "    <tr>\n",
              "      <th>0</th>\n",
              "      <td>Logistic Regression</td>\n",
              "      <td>83.333333</td>\n",
              "    </tr>\n",
              "    <tr>\n",
              "      <th>4</th>\n",
              "      <td>Categorical NB</td>\n",
              "      <td>83.333333</td>\n",
              "    </tr>\n",
              "    <tr>\n",
              "      <th>8</th>\n",
              "      <td>Random Forest</td>\n",
              "      <td>83.333333</td>\n",
              "    </tr>\n",
              "    <tr>\n",
              "      <th>9</th>\n",
              "      <td>Random Forest Max</td>\n",
              "      <td>83.333333</td>\n",
              "    </tr>\n",
              "    <tr>\n",
              "      <th>3</th>\n",
              "      <td>SVM</td>\n",
              "      <td>80.000000</td>\n",
              "    </tr>\n",
              "    <tr>\n",
              "      <th>6</th>\n",
              "      <td>Decision Tree</td>\n",
              "      <td>76.666667</td>\n",
              "    </tr>\n",
              "    <tr>\n",
              "      <th>7</th>\n",
              "      <td>Decision Tree Max</td>\n",
              "      <td>76.666667</td>\n",
              "    </tr>\n",
              "    <tr>\n",
              "      <th>2</th>\n",
              "      <td>K Neighbors Max</td>\n",
              "      <td>71.666667</td>\n",
              "    </tr>\n",
              "    <tr>\n",
              "      <th>5</th>\n",
              "      <td>Gaussian NB</td>\n",
              "      <td>70.000000</td>\n",
              "    </tr>\n",
              "    <tr>\n",
              "      <th>1</th>\n",
              "      <td>K Neighbors</td>\n",
              "      <td>65.000000</td>\n",
              "    </tr>\n",
              "  </tbody>\n",
              "</table>\n",
              "</div>\n",
              "      <button class=\"colab-df-convert\" onclick=\"convertToInteractive('df-42a1c33a-c720-4acd-9dcd-c75f354aa73b')\"\n",
              "              title=\"Convert this dataframe to an interactive table.\"\n",
              "              style=\"display:none;\">\n",
              "        \n",
              "  <svg xmlns=\"http://www.w3.org/2000/svg\" height=\"24px\"viewBox=\"0 0 24 24\"\n",
              "       width=\"24px\">\n",
              "    <path d=\"M0 0h24v24H0V0z\" fill=\"none\"/>\n",
              "    <path d=\"M18.56 5.44l.94 2.06.94-2.06 2.06-.94-2.06-.94-.94-2.06-.94 2.06-2.06.94zm-11 1L8.5 8.5l.94-2.06 2.06-.94-2.06-.94L8.5 2.5l-.94 2.06-2.06.94zm10 10l.94 2.06.94-2.06 2.06-.94-2.06-.94-.94-2.06-.94 2.06-2.06.94z\"/><path d=\"M17.41 7.96l-1.37-1.37c-.4-.4-.92-.59-1.43-.59-.52 0-1.04.2-1.43.59L10.3 9.45l-7.72 7.72c-.78.78-.78 2.05 0 2.83L4 21.41c.39.39.9.59 1.41.59.51 0 1.02-.2 1.41-.59l7.78-7.78 2.81-2.81c.8-.78.8-2.07 0-2.86zM5.41 20L4 18.59l7.72-7.72 1.47 1.35L5.41 20z\"/>\n",
              "  </svg>\n",
              "      </button>\n",
              "      \n",
              "  <style>\n",
              "    .colab-df-container {\n",
              "      display:flex;\n",
              "      flex-wrap:wrap;\n",
              "      gap: 12px;\n",
              "    }\n",
              "\n",
              "    .colab-df-convert {\n",
              "      background-color: #E8F0FE;\n",
              "      border: none;\n",
              "      border-radius: 50%;\n",
              "      cursor: pointer;\n",
              "      display: none;\n",
              "      fill: #1967D2;\n",
              "      height: 32px;\n",
              "      padding: 0 0 0 0;\n",
              "      width: 32px;\n",
              "    }\n",
              "\n",
              "    .colab-df-convert:hover {\n",
              "      background-color: #E2EBFA;\n",
              "      box-shadow: 0px 1px 2px rgba(60, 64, 67, 0.3), 0px 1px 3px 1px rgba(60, 64, 67, 0.15);\n",
              "      fill: #174EA6;\n",
              "    }\n",
              "\n",
              "    [theme=dark] .colab-df-convert {\n",
              "      background-color: #3B4455;\n",
              "      fill: #D2E3FC;\n",
              "    }\n",
              "\n",
              "    [theme=dark] .colab-df-convert:hover {\n",
              "      background-color: #434B5C;\n",
              "      box-shadow: 0px 1px 3px 1px rgba(0, 0, 0, 0.15);\n",
              "      filter: drop-shadow(0px 1px 2px rgba(0, 0, 0, 0.3));\n",
              "      fill: #FFFFFF;\n",
              "    }\n",
              "  </style>\n",
              "\n",
              "      <script>\n",
              "        const buttonEl =\n",
              "          document.querySelector('#df-42a1c33a-c720-4acd-9dcd-c75f354aa73b button.colab-df-convert');\n",
              "        buttonEl.style.display =\n",
              "          google.colab.kernel.accessAllowed ? 'block' : 'none';\n",
              "\n",
              "        async function convertToInteractive(key) {\n",
              "          const element = document.querySelector('#df-42a1c33a-c720-4acd-9dcd-c75f354aa73b');\n",
              "          const dataTable =\n",
              "            await google.colab.kernel.invokeFunction('convertToInteractive',\n",
              "                                                     [key], {});\n",
              "          if (!dataTable) return;\n",
              "\n",
              "          const docLinkHtml = 'Like what you see? Visit the ' +\n",
              "            '<a target=\"_blank\" href=https://colab.research.google.com/notebooks/data_table.ipynb>data table notebook</a>'\n",
              "            + ' to learn more about interactive tables.';\n",
              "          element.innerHTML = '';\n",
              "          dataTable['output_type'] = 'display_data';\n",
              "          await google.colab.output.renderOutput(dataTable, element);\n",
              "          const docLink = document.createElement('div');\n",
              "          docLink.innerHTML = docLinkHtml;\n",
              "          element.appendChild(docLink);\n",
              "        }\n",
              "      </script>\n",
              "    </div>\n",
              "  </div>\n",
              "  "
            ]
          },
          "metadata": {},
          "execution_count": 42
        }
      ],
      "source": [
        "compare = pd.DataFrame({'Model': ['Logistic Regression', 'K Neighbors', 'K Neighbors Max', 'SVM', 'Categorical NB', 'Gaussian NB', 'Decision Tree', 'Decision Tree Max', 'Random Forest', 'Random Forest Max'], \n",
        "                        'Accuracy': [LRAcc*100, KNAcc*100, KNAccMax*100, SVCAcc*100, NBAcc1*100, NBAcc2*100, DTAcc*100, DTAccMax*100, RFAcc*100, RFAccMax*100]})\n",
        "compare.sort_values(by='Accuracy', ascending=False)"
      ]
    },
    {
      "cell_type": "markdown",
      "id": "5d75c22f",
      "metadata": {
        "id": "5d75c22f",
        "papermill": {
          "duration": 0.082927,
          "end_time": "2022-05-04T02:55:07.250053",
          "exception": false,
          "start_time": "2022-05-04T02:55:07.167126",
          "status": "completed"
        },
        "tags": []
      },
      "source": [
        "👉 From the results, it can be seen that most of ML models can reach **up to 80% accuracy** in predicting classification of drug type."
      ]
    },
    {
      "cell_type": "markdown",
      "id": "b470c677",
      "metadata": {
        "papermill": {
          "duration": 0.084176,
          "end_time": "2022-05-04T02:55:07.417492",
          "exception": false,
          "start_time": "2022-05-04T02:55:07.333316",
          "status": "completed"
        },
        "tags": [],
        "id": "b470c677"
      },
      "source": [
        "# 12. Saving the model\n",
        "👉 The next step is to save the model in pickle format."
      ]
    },
    {
      "cell_type": "code",
      "source": [
        "pickle.dump(rf,open('model.pkl','wb'))"
      ],
      "metadata": {
        "id": "gkclpLbkBF0z"
      },
      "id": "gkclpLbkBF0z",
      "execution_count": 38,
      "outputs": []
    }
  ],
  "metadata": {
    "kernelspec": {
      "display_name": "Python 3",
      "language": "python",
      "name": "python3"
    },
    "language_info": {
      "codemirror_mode": {
        "name": "ipython",
        "version": 3
      },
      "file_extension": ".py",
      "mimetype": "text/x-python",
      "name": "python",
      "nbconvert_exporter": "python",
      "pygments_lexer": "ipython3",
      "version": "3.7.10"
    },
    "papermill": {
      "default_parameters": {},
      "duration": 123.972965,
      "end_time": "2022-05-04T02:55:10.135212",
      "environment_variables": {},
      "exception": null,
      "input_path": "__notebook__.ipynb",
      "output_path": "__notebook__.ipynb",
      "parameters": {},
      "start_time": "2022-05-04T02:53:06.162247",
      "version": "2.3.3"
    },
    "colab": {
      "provenance": [],
      "collapsed_sections": []
    }
  },
  "nbformat": 4,
  "nbformat_minor": 5
}